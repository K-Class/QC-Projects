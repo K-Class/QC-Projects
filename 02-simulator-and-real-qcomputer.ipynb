{
 "cells": [
  {
   "cell_type": "markdown",
   "id": "7983acd4",
   "metadata": {},
   "source": [
    "# Simulator and Real Quantum Computer\n",
    "In this chapter, we are going to learn how to run a quantum code on a simulator and on real quantum computer."
   ]
  },
  {
   "cell_type": "markdown",
   "id": "9801e8ab",
   "metadata": {},
   "source": [
    "### Use the following line of code in Every Qiskit Notebook to import needed libraries."
   ]
  },
  {
   "cell_type": "code",
   "execution_count": 7,
   "id": "57e27169",
   "metadata": {},
   "outputs": [],
   "source": [
    "from qiskit import *       # importing all the necessary commands like Aer, execute\n",
    "from qiskit.tools.visualization import plot_bloch_multivector\n",
    "import random\n",
    "import numpy as np\n",
    "import matplotlib.pyplot as plt"
   ]
  },
  {
   "cell_type": "markdown",
   "id": "503124d9",
   "metadata": {},
   "source": [
    "## Creating Circuit\n",
    "We design a quantum circuit with a single quantum bit and a single classical bit.\n",
    "\n",
    "We apply the NOT operator on the quantum bit, and then we measure the quantum bit, the outcome of which will be saved on the classical bit.\n",
    "\n",
    "A quantum circuit is composed by quantum and classical bits in Qiskit."
   ]
  },
  {
   "cell_type": "code",
   "execution_count": 8,
   "id": "d13b7fd4",
   "metadata": {},
   "outputs": [],
   "source": [
    "q= QuantumRegister(1,\"qreg\")     # in this example we will use a single quantum bit\n",
    "                                 # the second parameter is optional"
   ]
  },
  {
   "cell_type": "markdown",
   "id": "dd5e7146",
   "metadata": {},
   "source": [
    "To retrieve an information from a quantum bit, it must be measured. The measurement result is stored classically. Therefore, we also use a classical regiser with classical bit(s)"
   ]
  },
  {
   "cell_type": "code",
   "execution_count": 9,
   "id": "57ff5485",
   "metadata": {},
   "outputs": [],
   "source": [
    "c = ClassicalRegister(1,\"creg\")  # in this example we will use a single classical bit\n",
    "                                 # the second parameter is optional"
   ]
  },
  {
   "cell_type": "markdown",
   "id": "e89213bc",
   "metadata": {},
   "source": [
    "Now we can define our quantum circuit. It is composed by a quantum and a classical registers"
   ]
  },
  {
   "cell_type": "code",
   "execution_count": 10,
   "id": "827ca8fd",
   "metadata": {},
   "outputs": [],
   "source": [
    "qc = QuantumCircuit(q,c)"
   ]
  },
  {
   "cell_type": "markdown",
   "id": "1887c005",
   "metadata": {},
   "source": [
    "we apply operators on quantum bits\n",
    "* operators are called as gates\n",
    "* we apply NOT operator represented as \"x\" in qiskit\n",
    "* operator is a part of the circuit, and we should specify the quantum bit as its parameter"
   ]
  },
  {
   "cell_type": "code",
   "execution_count": 11,
   "id": "143a8dde",
   "metadata": {
    "scrolled": true
   },
   "outputs": [
    {
     "data": {
      "image/png": "[encoded data removed]",
      "text/plain": [
       "<Figure size 317.14x200.667 with 1 Axes>"
      ]
     },
     "execution_count": 11,
     "metadata": {},
     "output_type": "execute_result"
    }
   ],
   "source": [
    "qc.x(q[0])    # (quantum) bits are enumerated starting from 0\n",
    "              # NOT operator or x-gate is applied to the first qubit of the quantum register\n",
    "              \n",
    "\n",
    "# Measurement is defined by associating a quantum bit to a classical bit.\n",
    "        \n",
    "qc.measure(q[0],c[0])\n",
    "\n",
    "# after the measurement, the observed value of the quantum bit is stored in the classical bit\n",
    "\n",
    "# we can draw the circuit by using matplotlib\n",
    "qc.draw(output='mpl') "
   ]
  },
  {
   "cell_type": "markdown",
   "id": "f69012ac",
   "metadata": {},
   "source": [
    "## Running the Circuit on Quantum Simulator\n",
    "we use the method \"execute\" and the object \"Aer\" from qiskit library\n",
    "\n",
    "We create a job object for execution of the circuit. There are three parameters\n",
    "* mycircuit\n",
    "* backend on which it will be executed: we will use local simulator\n",
    "* how many times it will be executed, by default it is 1024"
   ]
  },
  {
   "cell_type": "code",
   "execution_count": 12,
   "id": "1e791e6c",
   "metadata": {},
   "outputs": [
    {
     "name": "stdout",
     "output_type": "stream",
     "text": [
      "{'1': 1024}\n"
     ]
    },
    {
     "data": {
      "image/png": "[encoded data removed]",
      "text/plain": [
       "<Figure size 700x500 with 1 Axes>"
      ]
     },
     "execution_count": 12,
     "metadata": {},
     "output_type": "execute_result"
    }
   ],
   "source": [
    "job = execute(qc,Aer.get_backend('qasm_simulator'),shots=1024)\n",
    "\n",
    "# we can get the result of the outcome as follows\n",
    "counts = job.result().get_counts(qc)\n",
    "print(counts) # counts is a dictionary\n",
    "\n",
    "# we can show the result by using histogram as follows\n",
    "from qiskit.visualization import plot_histogram\n",
    "plot_histogram(counts)"
   ]
  },
  {
   "cell_type": "markdown",
   "id": "a5c50b9e",
   "metadata": {},
   "source": [
    "# Copy paste following line of code in Every Qiskit Notebook you want to start"
   ]
  },
  {
   "cell_type": "code",
   "execution_count": 23,
   "id": "8113a6bf",
   "metadata": {},
   "outputs": [
    {
     "ename": "SyntaxError",
     "evalue": "invalid decimal literal (3448622863.py, line 1)",
     "output_type": "error",
     "traceback": [
      "\u001b[0;36m  Cell \u001b[0;32mIn[23], line 1\u001b[0;36m\u001b[0m\n\u001b[0;31m    IBMQ.load_account(3fb4021c5877a5461df10755c12a514b4e0b8f39c05098f1f68ff269c7d079f29ed1f1d1521320a4fd299cb10037c77d666312947d62bbebc316e1b231138595)\u001b[0m\n\u001b[0m                      ^\u001b[0m\n\u001b[0;31mSyntaxError\u001b[0m\u001b[0;31m:\u001b[0m invalid decimal literal\n"
     ]
    }
   ],
   "source": [
    "IBMQ.load_account(3fb4021c5877a5461df10755c12a514b4e0b8f39c05098f1f68ff269c7d079f29ed1f1d1521320a4fd299cb10037c77d666312947d62bbebc316e1b231138595)\n",
    "provider = IBMQ.get_provider(hub = 'ibm-q')"
   ]
  },
  {
   "cell_type": "code",
   "execution_count": null,
   "id": "2aa3e275",
   "metadata": {},
   "outputs": [],
   "source": []
  }
 ],
 "metadata": {
  "kernelspec": {
   "display_name": "Python 3 (ipykernel)",
   "language": "python",
   "name": "python3"
  },
  "language_info": {
   "codemirror_mode": {
    "name": "ipython",
    "version": 3
   },
   "file_extension": ".py",
   "mimetype": "text/x-python",
   "name": "python",
   "nbconvert_exporter": "python",
   "pygments_lexer": "ipython3",
   "version": "3.10.6"
  }
 },
 "nbformat": 4,
 "nbformat_minor": 5
}
