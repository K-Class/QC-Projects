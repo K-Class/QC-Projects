{
 "cells": [
  {
   "cell_type": "markdown",
   "id": "7983acd4",
   "metadata": {},
   "source": [
    "# Simulator and Real Quantum Computer\n",
    "In this chapter, we are going to learn how to run a quantum code on a simulator and on real quantum computer."
   ]
  },
  {
   "cell_type": "markdown",
   "id": "9801e8ab",
   "metadata": {},
   "source": [
    "### Use the following line of code in Every Qiskit Notebook to import needed libraries."
   ]
  },
  {
   "cell_type": "code",
   "execution_count": 1,
   "id": "57e27169",
   "metadata": {},
   "outputs": [],
   "source": [
    "from qiskit import *       # importing all the necessary commands like Aer, execute\n",
    "from qiskit.tools.visualization import plot_bloch_multivector\n",
    "import random\n",
    "import numpy as np\n",
    "import matplotlib.pyplot as plt"
   ]
  },
  {
   "cell_type": "markdown",
   "id": "503124d9",
   "metadata": {},
   "source": [
    "## Creating Circuit\n",
    "We design a quantum circuit with a single quantum bit and a single classical bit.\n",
    "\n",
    "We apply the NOT operator on the quantum bit, and then we measure the quantum bit, the outcome of which will be saved on the classical bit.\n",
    "\n",
    "A quantum circuit is composed by quantum and classical bits in Qiskit."
   ]
  },
  {
   "cell_type": "code",
   "execution_count": 2,
   "id": "d13b7fd4",
   "metadata": {},
   "outputs": [],
   "source": [
    "q= QuantumRegister(1,\"qreg\")     # in this example we will use a single quantum bit\n",
    "                                 # the second parameter is optional"
   ]
  },
  {
   "cell_type": "markdown",
   "id": "dd5e7146",
   "metadata": {},
   "source": [
    "To retrieve an information from a quantum bit, it must be measured. The measurement result is stored classically. Therefore, we also use a classical regiser with classical bit(s)"
   ]
  },
  {
   "cell_type": "code",
   "execution_count": 3,
   "id": "57ff5485",
   "metadata": {},
   "outputs": [],
   "source": [
    "c = ClassicalRegister(1,\"creg\")  # in this example we will use a single classical bit\n",
    "                                 # the second parameter is optional"
   ]
  },
  {
   "cell_type": "markdown",
   "id": "e89213bc",
   "metadata": {},
   "source": [
    "Now we can define our quantum circuit. It is composed by a quantum and a classical registers"
   ]
  },
  {
   "cell_type": "code",
   "execution_count": 4,
   "id": "827ca8fd",
   "metadata": {},
   "outputs": [],
   "source": [
    "qc = QuantumCircuit(q,c)"
   ]
  },
  {
   "cell_type": "markdown",
   "id": "1887c005",
   "metadata": {},
   "source": [
    "we apply operators on quantum bits\n",
    "* operators are called as gates\n",
    "* we apply NOT operator represented as \"x\" in qiskit\n",
    "* operator is a part of the circuit, and we should specify the quantum bit as its parameter"
   ]
  },
  {
   "cell_type": "code",
   "execution_count": 5,
   "id": "143a8dde",
   "metadata": {
    "scrolled": true
   },
   "outputs": [
    {
     "data": {
      "image/png": "[encoded data removed]",
      "text/plain": [
       "<Figure size 317.14x200.667 with 1 Axes>"
      ]
     },
     "execution_count": 5,
     "metadata": {},
     "output_type": "execute_result"
    }
   ],
   "source": [
    "qc.x(q[0])    # (quantum) bits are enumerated starting from 0\n",
    "              # NOT operator or x-gate is applied to the first qubit of the quantum register\n",
    "              \n",
    "\n",
    "# Measurement is defined by associating a quantum bit to a classical bit.\n",
    "        \n",
    "qc.measure(q[0],c[0])\n",
    "\n",
    "# after the measurement, the observed value of the quantum bit is stored in the classical bit\n",
    "\n",
    "# we can draw the circuit by using matplotlib\n",
    "qc.draw(output='mpl') "
   ]
  },
  {
   "cell_type": "markdown",
   "id": "f69012ac",
   "metadata": {},
   "source": [
    "## Running the Circuit on Quantum Simulator\n",
    "we use the method \"execute\" and the object \"Aer\" from qiskit library\n",
    "\n",
    "We create a job object for execution of the circuit. There are three parameters\n",
    "* mycircuit\n",
    "* backend on which it will be executed: we will use local simulator\n",
    "* how many times it will be executed, by default it is 1024"
   ]
  },
  {
   "cell_type": "code",
   "execution_count": 6,
   "id": "1e791e6c",
   "metadata": {},
   "outputs": [
    {
     "name": "stdout",
     "output_type": "stream",
     "text": [
      "{'1': 1024}\n"
     ]
    },
    {
     "data": {
      "image/png": "[encoded data removed]",
      "text/plain": [
       "<Figure size 1000x400 with 1 Axes>"
      ]
     },
     "execution_count": 6,
     "metadata": {},
     "output_type": "execute_result"
    }
   ],
   "source": [
    "simulator=Aer.get_backend('qasm_simulator')\n",
    "job = execute(qc,simulator,shots=1024)\n",
    "\n",
    "# we can get the result of the outcome as follows\n",
    "counts = job.result().get_counts(qc)\n",
    "print(counts) # counts is a dictionary\n",
    "# we can show the result by using histogram as follows\n",
    "from qiskit.visualization import plot_histogram\n",
    "plot_histogram(counts,figsize=(10,4) )"
   ]
  },
  {
   "cell_type": "markdown",
   "id": "a5c50b9e",
   "metadata": {},
   "source": [
    "# Copy paste following line of code in Every Qiskit Notebook you want to start"
   ]
  },
  {
   "cell_type": "code",
   "execution_count": 7,
   "id": "8113a6bf",
   "metadata": {},
   "outputs": [],
   "source": [
    "from qiskit import IBMQ"
   ]
  },
  {
   "cell_type": "code",
   "execution_count": 8,
   "id": "2aa3e275",
   "metadata": {},
   "outputs": [
    {
     "name": "stderr",
     "output_type": "stream",
     "text": [
      "/tmp/ipykernel_7860/1251993827.py:1: DeprecationWarning: The package qiskit.providers.ibmq is being deprecated. Please see https://ibm.biz/provider_migration_guide to get instructions on how to migrate to qiskit-ibm-provider (https://github.com/Qiskit/qiskit-ibm-provider) and qiskit-ibm-runtime (https://github.com/Qiskit/qiskit-ibm-runtime).\n",
      "  IBMQ.save_account('3fb4021c5877a5461df10755c12a514b4e0b8f39c05098f1f68ff269c7d079f29ed1f1d1521320a4fd299cb10037c77d666312947d62bbebc316e1b231138595')\n",
      "/tmp/ipykernel_7860/1251993827.py:1: DeprecationWarning: The qiskit.IBMQ entrypoint and the qiskit-ibmq-provider package (accessible from 'qiskit.providers.ibmq`) are deprecated and will be removed in a future release. Instead you should use the qiskit-ibm-provider package which is accessible from 'qiskit_ibm_provider'. You can install it with 'pip install qiskit_ibm_provider'. Just replace 'qiskit.IBMQ' with 'qiskit_ibm_provider.IBMProvider'\n",
      "  IBMQ.save_account('3fb4021c5877a5461df10755c12a514b4e0b8f39c05098f1f68ff269c7d079f29ed1f1d1521320a4fd299cb10037c77d666312947d62bbebc316e1b231138595')\n",
      "configrc.store_credentials:WARNING:2023-07-01 14:37:30,905: Credentials already present. Set overwrite=True to overwrite.\n"
     ]
    }
   ],
   "source": [
    "IBMQ.save_account('3fb4021c5877a5461df10755c12a514b4e0b8f39c05098f1f68ff269c7d079f29ed1f1d1521320a4fd299cb10037c77d666312947d62bbebc316e1b231138595')"
   ]
  },
  {
   "cell_type": "code",
   "execution_count": 9,
   "id": "af980e80",
   "metadata": {},
   "outputs": [],
   "source": [
    "IBMQ.load_account()\n",
    "provider=IBMQ.get_provider('ibm-q')\n",
    "qcomputer=provider.get_backend('ibmq_lima')"
   ]
  },
  {
   "cell_type": "code",
   "execution_count": 10,
   "id": "2bfbc753",
   "metadata": {},
   "outputs": [],
   "source": [
    "job=execute(qc,backend=qcomputer)"
   ]
  },
  {
   "cell_type": "code",
   "execution_count": 11,
   "id": "487bb402",
   "metadata": {},
   "outputs": [
    {
     "name": "stdout",
     "output_type": "stream",
     "text": [
      "Job Status: job is queued (None)"
     ]
    },
    {
     "ename": "KeyboardInterrupt",
     "evalue": "",
     "output_type": "error",
     "traceback": [
      "\u001b[0;31m---------------------------------------------------------------------------\u001b[0m",
      "\u001b[0;31mKeyboardInterrupt\u001b[0m                         Traceback (most recent call last)",
      "Cell \u001b[0;32mIn[11], line 2\u001b[0m\n\u001b[1;32m      1\u001b[0m \u001b[38;5;28;01mfrom\u001b[39;00m \u001b[38;5;21;01mqiskit\u001b[39;00m\u001b[38;5;21;01m.\u001b[39;00m\u001b[38;5;21;01mtools\u001b[39;00m\u001b[38;5;21;01m.\u001b[39;00m\u001b[38;5;21;01mmonitor\u001b[39;00m \u001b[38;5;28;01mimport\u001b[39;00m job_monitor\n\u001b[0;32m----> 2\u001b[0m \u001b[43mjob_monitor\u001b[49m\u001b[43m(\u001b[49m\u001b[43mjob\u001b[49m\u001b[43m)\u001b[49m\n",
      "File \u001b[0;32m~/.local/lib/python3.10/site-packages/qiskit/tools/monitor/job_monitor.py:105\u001b[0m, in \u001b[0;36mjob_monitor\u001b[0;34m(job, interval, quiet, output, line_discipline)\u001b[0m\n\u001b[1;32m    102\u001b[0m \u001b[38;5;28;01melse\u001b[39;00m:\n\u001b[1;32m    103\u001b[0m     _interval_set \u001b[38;5;241m=\u001b[39m \u001b[38;5;28;01mTrue\u001b[39;00m\n\u001b[0;32m--> 105\u001b[0m \u001b[43m_text_checker\u001b[49m\u001b[43m(\u001b[49m\n\u001b[1;32m    106\u001b[0m \u001b[43m    \u001b[49m\u001b[43mjob\u001b[49m\u001b[43m,\u001b[49m\u001b[43m \u001b[49m\u001b[43minterval\u001b[49m\u001b[43m,\u001b[49m\u001b[43m \u001b[49m\u001b[43m_interval_set\u001b[49m\u001b[43m,\u001b[49m\u001b[43m \u001b[49m\u001b[43mquiet\u001b[49m\u001b[38;5;241;43m=\u001b[39;49m\u001b[43mquiet\u001b[49m\u001b[43m,\u001b[49m\u001b[43m \u001b[49m\u001b[43moutput\u001b[49m\u001b[38;5;241;43m=\u001b[39;49m\u001b[43moutput\u001b[49m\u001b[43m,\u001b[49m\u001b[43m \u001b[49m\u001b[43mline_discipline\u001b[49m\u001b[38;5;241;43m=\u001b[39;49m\u001b[43mline_discipline\u001b[49m\n\u001b[1;32m    107\u001b[0m \u001b[43m\u001b[49m\u001b[43m)\u001b[49m\n",
      "File \u001b[0;32m~/.local/lib/python3.10/site-packages/qiskit/tools/monitor/job_monitor.py:44\u001b[0m, in \u001b[0;36m_text_checker\u001b[0;34m(job, interval, _interval_set, quiet, output, line_discipline)\u001b[0m\n\u001b[1;32m     42\u001b[0m     \u001b[38;5;28mprint\u001b[39m(\u001b[38;5;124m\"\u001b[39m\u001b[38;5;132;01m{}\u001b[39;00m\u001b[38;5;132;01m{}\u001b[39;00m\u001b[38;5;124m: \u001b[39m\u001b[38;5;132;01m{}\u001b[39;00m\u001b[38;5;124m\"\u001b[39m\u001b[38;5;241m.\u001b[39mformat(line_discipline, \u001b[38;5;124m\"\u001b[39m\u001b[38;5;124mJob Status\u001b[39m\u001b[38;5;124m\"\u001b[39m, msg), end\u001b[38;5;241m=\u001b[39m\u001b[38;5;124m\"\u001b[39m\u001b[38;5;124m\"\u001b[39m, file\u001b[38;5;241m=\u001b[39moutput)\n\u001b[1;32m     43\u001b[0m \u001b[38;5;28;01mwhile\u001b[39;00m status\u001b[38;5;241m.\u001b[39mname \u001b[38;5;129;01mnot\u001b[39;00m \u001b[38;5;129;01min\u001b[39;00m [\u001b[38;5;124m\"\u001b[39m\u001b[38;5;124mDONE\u001b[39m\u001b[38;5;124m\"\u001b[39m, \u001b[38;5;124m\"\u001b[39m\u001b[38;5;124mCANCELLED\u001b[39m\u001b[38;5;124m\"\u001b[39m, \u001b[38;5;124m\"\u001b[39m\u001b[38;5;124mERROR\u001b[39m\u001b[38;5;124m\"\u001b[39m]:\n\u001b[0;32m---> 44\u001b[0m     \u001b[43mtime\u001b[49m\u001b[38;5;241;43m.\u001b[39;49m\u001b[43msleep\u001b[49m\u001b[43m(\u001b[49m\u001b[43minterval\u001b[49m\u001b[43m)\u001b[49m\n\u001b[1;32m     45\u001b[0m     status \u001b[38;5;241m=\u001b[39m job\u001b[38;5;241m.\u001b[39mstatus()\n\u001b[1;32m     46\u001b[0m     msg \u001b[38;5;241m=\u001b[39m status\u001b[38;5;241m.\u001b[39mvalue\n",
      "\u001b[0;31mKeyboardInterrupt\u001b[0m: "
     ]
    }
   ],
   "source": [
    "from qiskit.tools.monitor import job_monitor\n",
    "job_monitor(job)"
   ]
  },
  {
   "cell_type": "code",
   "execution_count": null,
   "id": "2df56ded",
   "metadata": {},
   "outputs": [],
   "source": [
    "result=job.result().get_counts\n",
    "plot_histogram(result.get_counts(qc))"
   ]
  },
  {
   "cell_type": "code",
   "execution_count": 12,
   "id": "b759edab",
   "metadata": {},
   "outputs": [
    {
     "name": "stdout",
     "output_type": "stream",
     "text": [
      "{'1': 1024}\n"
     ]
    }
   ],
   "source": [
    "q =  QuantumRegister(1) \n",
    "c = ClassicalRegister(1) \n",
    "qc = QuantumCircuit(q,c)\n",
    "\n",
    "qc.x(q[0])\n",
    "\n",
    "qc.measure(q[0],c[0])\n",
    "job = execute(qc,Aer.get_backend('qasm_simulator'),shots=1024)\n",
    "counts = job.result().get_counts(qc)\n",
    "print(counts) # counts is a dictionary"
   ]
  },
  {
   "cell_type": "code",
   "execution_count": 16,
   "id": "217b0313",
   "metadata": {},
   "outputs": [
    {
     "name": "stdout",
     "output_type": "stream",
     "text": [
      "{'1': 100}\n"
     ]
    }
   ],
   "source": [
    "q2 = QuantumRegister(1,\"qreg\")\n",
    "c2 = ClassicalRegister(1,\"creg\")\n",
    "qc2 = QuantumCircuit(q2,c2)\n",
    "\n",
    "\n",
    "qc2.h(q2[0])\n",
    "qc2.z(q2[0])\n",
    "qc2.h(q2[0])\n",
    "qc2.measure(q2,c2)\n",
    "job = execute(qc2,Aer.get_backend('qasm_simulator'),shots=100)\n",
    "counts = job.result().get_counts(qc2)\n",
    "print(counts) # counts is a dictionary"
   ]
  },
  {
   "cell_type": "code",
   "execution_count": 15,
   "id": "849b4dca",
   "metadata": {},
   "outputs": [
    {
     "name": "stdout",
     "output_type": "stream",
     "text": [
      "{'01': 100}\n"
     ]
    }
   ],
   "source": [
    "q2 = QuantumRegister(2,\"qreg\")\n",
    "c2 = ClassicalRegister(2,\"creg\")\n",
    "qc2 = QuantumCircuit(q2,c2)\n",
    "\n",
    "qc2.x(q2[0])\n",
    "\n",
    "qc2.measure(q2,c2)\n",
    "job = execute(qc2,Aer.get_backend('qasm_simulator'),shots=100)\n",
    "counts = job.result().get_counts(qc2)\n",
    "print(counts) # counts is a dictionary"
   ]
  },
  {
   "cell_type": "code",
   "execution_count": 21,
   "id": "188354cd",
   "metadata": {},
   "outputs": [
    {
     "data": {
      "text/plain": [
       "<qiskit.circuit.instructionset.InstructionSet at 0x7f23cca38ca0>"
      ]
     },
     "execution_count": 21,
     "metadata": {},
     "output_type": "execute_result"
    }
   ],
   "source": [
    "q3 = QuantumRegister(2,\"qreg\")\n",
    "c3 = ClassicalRegister(2,\"creg\")\n",
    "qc3=QuantumCircuit(q3,c3)\n",
    "qc3.h(0)"
   ]
  },
  {
   "cell_type": "code",
   "execution_count": 22,
   "id": "024a29d8",
   "metadata": {},
   "outputs": [
    {
     "name": "stdout",
     "output_type": "stream",
     "text": [
      "{'01': 525, '00': 499}\n"
     ]
    }
   ],
   "source": [
    "from qiskit import QuantumCircuit, execute, Aer\n",
    "\n",
    "# Create a quantum circuit with two qubits\n",
    "qc = QuantumCircuit(2)\n",
    "\n",
    "# Apply a Hadamard gate to the first qubit\n",
    "qc.h(0)\n",
    "\n",
    "# Measure the qubits\n",
    "qc.measure_all()\n",
    "\n",
    "# Simulate the circuit\n",
    "backend = Aer.get_backend('qasm_simulator')\n",
    "job = execute(qc, backend)\n",
    "result = job.result()\n",
    "\n",
    "# Get the counts of the measurement outcomes\n",
    "counts = result.get_counts()\n",
    "\n",
    "# Print the results\n",
    "print(counts)"
   ]
  },
  {
   "cell_type": "code",
   "execution_count": 26,
   "id": "e276465b",
   "metadata": {},
   "outputs": [
    {
     "name": "stdout",
     "output_type": "stream",
     "text": [
      "{'11': 247, '01': 243, '10': 260, '00': 250}\n",
      "{'11': 497, '00': 503}\n"
     ]
    }
   ],
   "source": [
    "q2 = QuantumRegister(2,\"qreg\")\n",
    "c2 = ClassicalRegister(2,\"creg\")\n",
    "qc2 = QuantumCircuit(q2,c2)\n",
    "\n",
    "\n",
    "qc2.h(q2[0])\n",
    "qc2.cx(q2[0],q2[1])\n",
    "#Your code here\n",
    "\n",
    "qc2.measure(q2,c2)\n",
    "job = execute(qc2,Aer.get_backend('qasm_simulator'),shots=1000)\n",
    "counts = job.result().get_counts(qc2)\n",
    "print(counts) # counts is a dictionary"
   ]
  },
  {
   "cell_type": "code",
   "execution_count": 31,
   "id": "e2deafe0",
   "metadata": {},
   "outputs": [
    {
     "name": "stdout",
     "output_type": "stream",
     "text": [
      "{'10': 500, '01': 500}\n"
     ]
    }
   ],
   "source": [
    "q2 = QuantumRegister(2,\"qreg\")\n",
    "c2 = ClassicalRegister(2,\"creg\")\n",
    "qc2 = QuantumCircuit(q2,c2)\n",
    "\n",
    "\n",
    "qc2.h(q2[0])\n",
    "qc2.cx(q2[0],q2[1])\n",
    "qc2.x(q2[1])\n",
    "\n",
    "qc2.measure(q2,c2)\n",
    "job = execute(qc2,Aer.get_backend('qasm_simulator'),shots=1000)\n",
    "counts = job.result().get_counts(qc2)\n",
    "print(counts) # counts is a dictionary"
   ]
  },
  {
   "cell_type": "code",
   "execution_count": 34,
   "id": "0d054b9f",
   "metadata": {},
   "outputs": [
    {
     "data": {
      "text/plain": [
       "<qiskit.circuit.instructionset.InstructionSet at 0x7f23cca38b20>"
      ]
     },
     "execution_count": 34,
     "metadata": {},
     "output_type": "execute_result"
    }
   ],
   "source": [
    "from math import pi\n",
    "\n",
    "q =  QuantumRegister(1,\"qreg\") # quantum register with a single qubit\n",
    "c = ClassicalRegister(1,\"creg\") # classical register with a single bit\n",
    "qc = QuantumCircuit(q,c) # quantum circuit with quantum and classical registers\n",
    "\n",
    "#Your code here\n",
    "\n",
    "# measure the qubit\n",
    "qc.measure(q,c)"
   ]
  },
  {
   "cell_type": "code",
   "execution_count": 44,
   "id": "7d0c333c",
   "metadata": {},
   "outputs": [
    {
     "data": {
      "image/png": "[encoded data removed]",
      "text/plain": [
       "<Figure size 419.184x367.889 with 1 Axes>"
      ]
     },
     "execution_count": 44,
     "metadata": {},
     "output_type": "execute_result"
    }
   ],
   "source": [
    "q = QuantumRegister(3,\"qreg\")\n",
    "c = ClassicalRegister(3,\"creg\")\n",
    "qc = QuantumCircuit(q,c)\n",
    "\n",
    "qc.h(q[0])\n",
    "qc.cx(q[0],q[1])\n",
    "qc.cx(q[0],q[2])\n",
    "qc.draw(output='mpl') \n"
   ]
  },
  {
   "cell_type": "code",
   "execution_count": 46,
   "id": "2d896d75",
   "metadata": {},
   "outputs": [
    {
     "name": "stdout",
     "output_type": "stream",
     "text": [
      "{'111': 505, '000': 519}\n"
     ]
    }
   ],
   "source": [
    "qc.measure(q,c)\n",
    "job = execute(qc,Aer.get_backend('qasm_simulator'),shots=1024)\n",
    "counts = job.result().get_counts(qc)\n",
    "print(counts) # counts is a dictionary"
   ]
  },
  {
   "cell_type": "code",
   "execution_count": 50,
   "id": "5480e0a8",
   "metadata": {},
   "outputs": [
    {
     "data": {
      "text/plain": [
       "<qiskit.circuit.instructionset.InstructionSet at 0x7f23cc6b5450>"
      ]
     },
     "execution_count": 50,
     "metadata": {},
     "output_type": "execute_result"
    }
   ],
   "source": [
    "q6 = QuantumRegister(2,\"q\")\n",
    "c6 = ClassicalRegister(2,\"c\")\n",
    "qc6 = QuantumCircuit(q6,c6)\n",
    "\n",
    "qc6.x(q[0])\n",
    "\n",
    "qc6.measure(q6,c6)"
   ]
  },
  {
   "cell_type": "code",
   "execution_count": null,
   "id": "68b079a6",
   "metadata": {},
   "outputs": [],
   "source": []
  }
 ],
 "metadata": {
  "kernelspec": {
   "display_name": "Python 3 (ipykernel)",
   "language": "python",
   "name": "python3"
  },
  "language_info": {
   "codemirror_mode": {
    "name": "ipython",
    "version": 3
   },
   "file_extension": ".py",
   "mimetype": "text/x-python",
   "name": "python",
   "nbconvert_exporter": "python",
   "pygments_lexer": "ipython3",
   "version": "3.10.6"
  }
 },
 "nbformat": 4,
 "nbformat_minor": 5
}
