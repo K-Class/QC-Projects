{
 "cells": [
  {
   "cell_type": "markdown",
   "metadata": {},
   "source": [
    "<table  align=\"left\" width=\"100%\"> <tr>\n",
    "        <td  style=\"background-color:#ffffff;\"><a href=\"https://qsoftware.lu.lv/index.php/qworld/\" target=\"_blank\"><img src=\"../images/qworld.jpg\" width=\"35%\" align=\"left\"></a></td>\n",
    "        <td  align=\"right\" style=\"background-color:#ffffff;vertical-align:bottom;horizontal-align:right\">\n",
    "            prepared by Özlem Salehi (<a href=\"http://qworld.lu.lv/index.php/qturkey/\" target=\"_blank\">QTurkey</a>)\n",
    "        </td>        \n",
    "</tr></table>"
   ]
  },
  {
   "cell_type": "markdown",
   "metadata": {},
   "source": [
    "<table width=\"100%\"><tr><td style=\"color:#bbbbbb;background-color:#ffffff;font-size:11px;font-style:italic;text-align:right;\">This cell contains some macros. If there is a problem with displaying mathematical formulas, please run this cell to load these macros. </td></tr></table>\n",
    "$\\newcommand{\\Mod}[1]{\\ (\\mathrm{mod}\\ #1)}$\n",
    "$ \\newcommand{\\bra}[1]{\\langle #1|} $\n",
    "$ \\newcommand{\\ket}[1]{|#1\\rangle} $\n",
    "$ \\newcommand{\\braket}[2]{\\langle #1|#2\\rangle} $\n",
    "$ \\newcommand{\\dot}[2]{ #1 \\cdot #2} $\n",
    "$ \\newcommand{\\biginner}[2]{\\left\\langle #1,#2\\right\\rangle} $\n",
    "$ \\newcommand{\\mymatrix}[2]{\\left( \\begin{array}{#1} #2\\end{array} \\right)} $\n",
    "$ \\newcommand{\\myvector}[1]{\\mymatrix{c}{#1}} $\n",
    "$ \\newcommand{\\myrvector}[1]{\\mymatrix{r}{#1}} $\n",
    "$ \\newcommand{\\mypar}[1]{\\left( #1 \\right)} $\n",
    "$ \\newcommand{\\mybigpar}[1]{ \\Big( #1 \\Big)} $\n",
    "$ \\newcommand{\\sqrttwo}{\\frac{1}{\\sqrt{2}}} $\n",
    "$ \\newcommand{\\dsqrttwo}{\\dfrac{1}{\\sqrt{2}}} $\n",
    "$ \\newcommand{\\onehalf}{\\frac{1}{2}} $\n",
    "$ \\newcommand{\\donehalf}{\\dfrac{1}{2}} $\n",
    "$ \\newcommand{\\hadamard}{ \\mymatrix{rr}{ \\sqrttwo & \\sqrttwo \\\\ \\sqrttwo & -\\sqrttwo }} $\n",
    "$ \\newcommand{\\vzero}{\\myvector{1\\\\0}} $\n",
    "$ \\newcommand{\\vone}{\\myvector{0\\\\1}} $\n",
    "$ \\newcommand{\\stateplus}{\\myvector{ \\sqrttwo \\\\  \\sqrttwo } } $\n",
    "$ \\newcommand{\\stateminus}{ \\myrvector{ \\sqrttwo \\\\ -\\sqrttwo } } $\n",
    "$ \\newcommand{\\myarray}[2]{ \\begin{array}{#1}#2\\end{array}} $\n",
    "$ \\newcommand{\\X}{ \\mymatrix{cc}{0 & 1 \\\\ 1 & 0}  } $\n",
    "$ \\newcommand{\\Z}{ \\mymatrix{rr}{1 & 0 \\\\ 0 & -1}  } $\n",
    "$ \\newcommand{\\Htwo}{ \\mymatrix{rrrr}{ \\frac{1}{2} & \\frac{1}{2} & \\frac{1}{2} & \\frac{1}{2} \\\\ \\frac{1}{2} & -\\frac{1}{2} & \\frac{1}{2} & -\\frac{1}{2} \\\\ \\frac{1}{2} & \\frac{1}{2} & -\\frac{1}{2} & -\\frac{1}{2} \\\\ \\frac{1}{2} & -\\frac{1}{2} & -\\frac{1}{2} & \\frac{1}{2} } } $\n",
    "$ \\newcommand{\\CNOT}{ \\mymatrix{cccc}{1 & 0 & 0 & 0 \\\\ 0 & 1 & 0 & 0 \\\\ 0 & 0 & 0 & 1 \\\\ 0 & 0 & 1 & 0} } $\n",
    "$ \\newcommand{\\norm}[1]{ \\left\\lVert #1 \\right\\rVert } $\n",
    "$ \\newcommand{\\pstate}[1]{ \\lceil \\mspace{-1mu} #1 \\mspace{-1.5mu} \\rfloor } $"
   ]
  },
  {
   "cell_type": "markdown",
   "metadata": {},
   "source": [
    "# Cirq installation and test\n"
   ]
  },
  {
   "cell_type": "markdown",
   "metadata": {},
   "source": [
    "<hr id=\"install\">\n",
    "\n",
    "## Install Cirq\n"
   ]
  },
  {
   "cell_type": "markdown",
   "metadata": {},
   "source": [
    "Type\n",
    "\n",
    "    !pip install cirq\n",
    "    \n",
    "directly inside the cell of a Jupyter notebook.\n",
    "\n",
    "You may also visit the following links for further information.\n",
    "\n",
    "- https://pypi.org/project/cirq/\n",
    "\n",
    "- https://quantumai.google/cirq/install?hl=en"
   ]
  },
  {
   "cell_type": "markdown",
   "metadata": {},
   "source": [
    "__*Restart the kernel*__ (check \"Kernel\" menu) to apply the changes to the current notebook."
   ]
  },
  {
   "cell_type": "markdown",
   "metadata": {},
   "source": [
    "<hr id=\"check\">\n",
    "\n",
    "## Check Cirq installation\n",
    "\n"
   ]
  },
  {
   "cell_type": "code",
   "execution_count": 6,
   "metadata": {},
   "outputs": [
    {
     "name": "stdout",
     "output_type": "stream",
     "text": [
      "Defaulting to user installation because normal site-packages is not writeable\n",
      "Requirement already satisfied: cirq in /home/mirza/.local/lib/python3.10/site-packages (1.1.0)\n",
      "Requirement already satisfied: cirq-aqt==1.1.0 in /home/mirza/.local/lib/python3.10/site-packages (from cirq) (1.1.0)\n",
      "Requirement already satisfied: cirq-core==1.1.0 in /home/mirza/.local/lib/python3.10/site-packages (from cirq) (1.1.0)\n",
      "Requirement already satisfied: cirq-google==1.1.0 in /home/mirza/.local/lib/python3.10/site-packages (from cirq) (1.1.0)\n",
      "Requirement already satisfied: cirq-ionq==1.1.0 in /home/mirza/.local/lib/python3.10/site-packages (from cirq) (1.1.0)\n",
      "Requirement already satisfied: cirq-pasqal==1.1.0 in /home/mirza/.local/lib/python3.10/site-packages (from cirq) (1.1.0)\n",
      "Requirement already satisfied: cirq-rigetti==1.1.0 in /home/mirza/.local/lib/python3.10/site-packages (from cirq) (1.1.0)\n",
      "Requirement already satisfied: cirq-web==1.1.0 in /home/mirza/.local/lib/python3.10/site-packages (from cirq) (1.1.0)\n",
      "Requirement already satisfied: requests~=2.18 in /home/mirza/.local/lib/python3.10/site-packages (from cirq-aqt==1.1.0->cirq) (2.31.0)\n",
      "Requirement already satisfied: duet~=0.2.7 in /home/mirza/.local/lib/python3.10/site-packages (from cirq-core==1.1.0->cirq) (0.2.8)\n",
      "Requirement already satisfied: matplotlib~=3.0 in /usr/lib/python3/dist-packages (from cirq-core==1.1.0->cirq) (3.5.1)\n",
      "Requirement already satisfied: networkx~=2.4 in /home/mirza/.local/lib/python3.10/site-packages (from cirq-core==1.1.0->cirq) (2.8.8)\n",
      "Requirement already satisfied: numpy<1.24,>=1.16 in /usr/lib/python3/dist-packages (from cirq-core==1.1.0->cirq) (1.21.5)\n",
      "Requirement already satisfied: pandas in /home/mirza/.local/lib/python3.10/site-packages (from cirq-core==1.1.0->cirq) (2.0.2)\n",
      "Requirement already satisfied: sortedcontainers~=2.0 in /home/mirza/.local/lib/python3.10/site-packages (from cirq-core==1.1.0->cirq) (2.4.0)\n",
      "Requirement already satisfied: scipy in /usr/lib/python3/dist-packages (from cirq-core==1.1.0->cirq) (1.8.0)\n",
      "Requirement already satisfied: sympy in /usr/lib/python3/dist-packages (from cirq-core==1.1.0->cirq) (1.9)\n",
      "Requirement already satisfied: typing-extensions in /home/mirza/.local/lib/python3.10/site-packages (from cirq-core==1.1.0->cirq) (4.6.3)\n",
      "Requirement already satisfied: tqdm in /home/mirza/.local/lib/python3.10/site-packages (from cirq-core==1.1.0->cirq) (4.65.0)\n",
      "Requirement already satisfied: google-api-core[grpc]<2.0.0dev,>=1.14.0 in /home/mirza/.local/lib/python3.10/site-packages (from cirq-google==1.1.0->cirq) (1.34.0)\n",
      "Requirement already satisfied: proto-plus>=1.20.0 in /home/mirza/.local/lib/python3.10/site-packages (from cirq-google==1.1.0->cirq) (1.22.3)\n",
      "Requirement already satisfied: protobuf<4,>=3.15.0 in /home/mirza/.local/lib/python3.10/site-packages (from cirq-google==1.1.0->cirq) (3.20.3)\n",
      "Requirement already satisfied: pyquil>=3.2.0 in /home/mirza/.local/lib/python3.10/site-packages (from cirq-rigetti==1.1.0->cirq) (3.5.4)\n",
      "Requirement already satisfied: googleapis-common-protos<2.0dev,>=1.56.2 in /home/mirza/.local/lib/python3.10/site-packages (from google-api-core[grpc]<2.0.0dev,>=1.14.0->cirq-google==1.1.0->cirq) (1.59.1)\n",
      "Requirement already satisfied: google-auth<3.0dev,>=1.25.0 in /home/mirza/.local/lib/python3.10/site-packages (from google-api-core[grpc]<2.0.0dev,>=1.14.0->cirq-google==1.1.0->cirq) (2.21.0)\n",
      "Requirement already satisfied: grpcio<2.0dev,>=1.33.2 in /home/mirza/.local/lib/python3.10/site-packages (from google-api-core[grpc]<2.0.0dev,>=1.14.0->cirq-google==1.1.0->cirq) (1.56.0)\n",
      "Requirement already satisfied: grpcio-status<2.0dev,>=1.33.2 in /home/mirza/.local/lib/python3.10/site-packages (from google-api-core[grpc]<2.0.0dev,>=1.14.0->cirq-google==1.1.0->cirq) (1.48.2)\n",
      "Requirement already satisfied: deprecated<2.0.0,>=1.2.13 in /home/mirza/.local/lib/python3.10/site-packages (from pyquil>=3.2.0->cirq-rigetti==1.1.0->cirq) (1.2.14)\n",
      "Requirement already satisfied: lark<0.12.0,>=0.11.1 in /home/mirza/.local/lib/python3.10/site-packages (from pyquil>=3.2.0->cirq-rigetti==1.1.0->cirq) (0.11.3)\n",
      "Requirement already satisfied: qcs-api-client<0.22.0,>=0.21.0 in /home/mirza/.local/lib/python3.10/site-packages (from pyquil>=3.2.0->cirq-rigetti==1.1.0->cirq) (0.21.5)\n",
      "Requirement already satisfied: rpcq<4.0.0,>=3.10.0 in /home/mirza/.local/lib/python3.10/site-packages (from pyquil>=3.2.0->cirq-rigetti==1.1.0->cirq) (3.11.0)\n",
      "Requirement already satisfied: tenacity<9.0.0,>=8.2.2 in /home/mirza/.local/lib/python3.10/site-packages (from pyquil>=3.2.0->cirq-rigetti==1.1.0->cirq) (8.2.2)\n",
      "Requirement already satisfied: types-deprecated<2.0.0.0,>=1.2.9.2 in /home/mirza/.local/lib/python3.10/site-packages (from pyquil>=3.2.0->cirq-rigetti==1.1.0->cirq) (1.2.9.2)\n",
      "Requirement already satisfied: types-python-dateutil<3.0.0,>=2.8.19 in /home/mirza/.local/lib/python3.10/site-packages (from pyquil>=3.2.0->cirq-rigetti==1.1.0->cirq) (2.8.19.13)\n",
      "Requirement already satisfied: types-retry<0.10.0,>=0.9.9 in /home/mirza/.local/lib/python3.10/site-packages (from pyquil>=3.2.0->cirq-rigetti==1.1.0->cirq) (0.9.9.3)\n",
      "Requirement already satisfied: charset-normalizer<4,>=2 in /home/mirza/.local/lib/python3.10/site-packages (from requests~=2.18->cirq-aqt==1.1.0->cirq) (3.1.0)\n",
      "Requirement already satisfied: idna<4,>=2.5 in /home/mirza/.local/lib/python3.10/site-packages (from requests~=2.18->cirq-aqt==1.1.0->cirq) (3.4)\n",
      "Requirement already satisfied: urllib3<3,>=1.21.1 in /usr/lib/python3/dist-packages (from requests~=2.18->cirq-aqt==1.1.0->cirq) (1.26.5)\n",
      "Requirement already satisfied: certifi>=2017.4.17 in /usr/lib/python3/dist-packages (from requests~=2.18->cirq-aqt==1.1.0->cirq) (2020.6.20)\n",
      "Requirement already satisfied: python-dateutil>=2.8.2 in /home/mirza/.local/lib/python3.10/site-packages (from pandas->cirq-core==1.1.0->cirq) (2.8.2)\n",
      "Requirement already satisfied: pytz>=2020.1 in /usr/lib/python3/dist-packages (from pandas->cirq-core==1.1.0->cirq) (2022.1)\n",
      "Requirement already satisfied: tzdata>=2022.1 in /home/mirza/.local/lib/python3.10/site-packages (from pandas->cirq-core==1.1.0->cirq) (2023.3)\n",
      "Requirement already satisfied: wrapt<2,>=1.10 in /home/mirza/.local/lib/python3.10/site-packages (from deprecated<2.0.0,>=1.2.13->pyquil>=3.2.0->cirq-rigetti==1.1.0->cirq) (1.15.0)\n",
      "Requirement already satisfied: cachetools<6.0,>=2.0.0 in /home/mirza/.local/lib/python3.10/site-packages (from google-auth<3.0dev,>=1.25.0->google-api-core[grpc]<2.0.0dev,>=1.14.0->cirq-google==1.1.0->cirq) (5.3.1)\n",
      "Requirement already satisfied: pyasn1-modules>=0.2.1 in /home/mirza/.local/lib/python3.10/site-packages (from google-auth<3.0dev,>=1.25.0->google-api-core[grpc]<2.0.0dev,>=1.14.0->cirq-google==1.1.0->cirq) (0.3.0)\n",
      "Requirement already satisfied: rsa<5,>=3.1.4 in /home/mirza/.local/lib/python3.10/site-packages (from google-auth<3.0dev,>=1.25.0->google-api-core[grpc]<2.0.0dev,>=1.14.0->cirq-google==1.1.0->cirq) (4.9)\n",
      "Requirement already satisfied: six>=1.9.0 in /home/mirza/.local/lib/python3.10/site-packages (from google-auth<3.0dev,>=1.25.0->google-api-core[grpc]<2.0.0dev,>=1.14.0->cirq-google==1.1.0->cirq) (1.16.0)\n",
      "Requirement already satisfied: PyJWT<3.0.0,>=2.4.0 in /home/mirza/.local/lib/python3.10/site-packages (from qcs-api-client<0.22.0,>=0.21.0->pyquil>=3.2.0->cirq-rigetti==1.1.0->cirq) (2.7.0)\n",
      "Requirement already satisfied: attrs<22.0.0,>=21.3.0 in /home/mirza/.local/lib/python3.10/site-packages (from qcs-api-client<0.22.0,>=0.21.0->pyquil>=3.2.0->cirq-rigetti==1.1.0->cirq) (21.4.0)\n",
      "Requirement already satisfied: httpx<0.24.0,>=0.23.0 in /home/mirza/.local/lib/python3.10/site-packages (from qcs-api-client<0.22.0,>=0.21.0->pyquil>=3.2.0->cirq-rigetti==1.1.0->cirq) (0.23.3)\n",
      "Requirement already satisfied: iso8601<2.0.0,>=1.0.2 in /home/mirza/.local/lib/python3.10/site-packages (from qcs-api-client<0.22.0,>=0.21.0->pyquil>=3.2.0->cirq-rigetti==1.1.0->cirq) (1.1.0)\n",
      "Requirement already satisfied: pydantic<2.0.0,>=1.7.2 in /home/mirza/.local/lib/python3.10/site-packages (from qcs-api-client<0.22.0,>=0.21.0->pyquil>=3.2.0->cirq-rigetti==1.1.0->cirq) (1.10.11)\n",
      "Requirement already satisfied: retrying<2.0.0,>=1.3.3 in /home/mirza/.local/lib/python3.10/site-packages (from qcs-api-client<0.22.0,>=0.21.0->pyquil>=3.2.0->cirq-rigetti==1.1.0->cirq) (1.3.4)\n",
      "Requirement already satisfied: rfc3339<7.0,>=6.2 in /home/mirza/.local/lib/python3.10/site-packages (from qcs-api-client<0.22.0,>=0.21.0->pyquil>=3.2.0->cirq-rigetti==1.1.0->cirq) (6.2)\n",
      "Requirement already satisfied: toml<0.11.0,>=0.10.2 in /home/mirza/.local/lib/python3.10/site-packages (from qcs-api-client<0.22.0,>=0.21.0->pyquil>=3.2.0->cirq-rigetti==1.1.0->cirq) (0.10.2)\n",
      "Requirement already satisfied: msgpack<2.0,>=0.6 in /home/mirza/.local/lib/python3.10/site-packages (from rpcq<4.0.0,>=3.10.0->pyquil>=3.2.0->cirq-rigetti==1.1.0->cirq) (1.0.5)\n",
      "Requirement already satisfied: python-rapidjson in /home/mirza/.local/lib/python3.10/site-packages (from rpcq<4.0.0,>=3.10.0->pyquil>=3.2.0->cirq-rigetti==1.1.0->cirq) (1.10)\n",
      "Requirement already satisfied: pyzmq>=17 in /home/mirza/.local/lib/python3.10/site-packages (from rpcq<4.0.0,>=3.10.0->pyquil>=3.2.0->cirq-rigetti==1.1.0->cirq) (25.1.0)\n",
      "Requirement already satisfied: ruamel.yaml in /home/mirza/.local/lib/python3.10/site-packages (from rpcq<4.0.0,>=3.10.0->pyquil>=3.2.0->cirq-rigetti==1.1.0->cirq) (0.17.32)\n"
     ]
    },
    {
     "name": "stdout",
     "output_type": "stream",
     "text": [
      "Requirement already satisfied: httpcore<0.17.0,>=0.15.0 in /home/mirza/.local/lib/python3.10/site-packages (from httpx<0.24.0,>=0.23.0->qcs-api-client<0.22.0,>=0.21.0->pyquil>=3.2.0->cirq-rigetti==1.1.0->cirq) (0.16.3)\n",
      "Requirement already satisfied: rfc3986[idna2008]<2,>=1.3 in /home/mirza/.local/lib/python3.10/site-packages (from httpx<0.24.0,>=0.23.0->qcs-api-client<0.22.0,>=0.21.0->pyquil>=3.2.0->cirq-rigetti==1.1.0->cirq) (1.5.0)\n",
      "Requirement already satisfied: sniffio in /home/mirza/.local/lib/python3.10/site-packages (from httpx<0.24.0,>=0.23.0->qcs-api-client<0.22.0,>=0.21.0->pyquil>=3.2.0->cirq-rigetti==1.1.0->cirq) (1.3.0)\n",
      "Requirement already satisfied: pyasn1<0.6.0,>=0.4.6 in /home/mirza/.local/lib/python3.10/site-packages (from pyasn1-modules>=0.2.1->google-auth<3.0dev,>=1.25.0->google-api-core[grpc]<2.0.0dev,>=1.14.0->cirq-google==1.1.0->cirq) (0.5.0)\n",
      "Requirement already satisfied: ruamel.yaml.clib>=0.2.7 in /home/mirza/.local/lib/python3.10/site-packages (from ruamel.yaml->rpcq<4.0.0,>=3.10.0->pyquil>=3.2.0->cirq-rigetti==1.1.0->cirq) (0.2.7)\n",
      "Requirement already satisfied: h11<0.15,>=0.13 in /home/mirza/.local/lib/python3.10/site-packages (from httpcore<0.17.0,>=0.15.0->httpx<0.24.0,>=0.23.0->qcs-api-client<0.22.0,>=0.21.0->pyquil>=3.2.0->cirq-rigetti==1.1.0->cirq) (0.14.0)\n",
      "Requirement already satisfied: anyio<5.0,>=3.0 in /home/mirza/.local/lib/python3.10/site-packages (from httpcore<0.17.0,>=0.15.0->httpx<0.24.0,>=0.23.0->qcs-api-client<0.22.0,>=0.21.0->pyquil>=3.2.0->cirq-rigetti==1.1.0->cirq) (3.7.0)\n",
      "Requirement already satisfied: exceptiongroup in /home/mirza/.local/lib/python3.10/site-packages (from anyio<5.0,>=3.0->httpcore<0.17.0,>=0.15.0->httpx<0.24.0,>=0.23.0->qcs-api-client<0.22.0,>=0.21.0->pyquil>=3.2.0->cirq-rigetti==1.1.0->cirq) (1.1.1)\n",
      "Note: you may need to restart the kernel to use updated packages.\n"
     ]
    }
   ],
   "source": [
    "pip install cirq"
   ]
  },
  {
   "cell_type": "code",
   "execution_count": 3,
   "metadata": {},
   "outputs": [
    {
     "ename": "AttributeError",
     "evalue": "module 'cirq' has no attribute 'google'",
     "output_type": "error",
     "traceback": [
      "\u001b[0;31m---------------------------------------------------------------------------\u001b[0m",
      "\u001b[0;31mAttributeError\u001b[0m                            Traceback (most recent call last)",
      "Cell \u001b[0;32mIn[3], line 2\u001b[0m\n\u001b[1;32m      1\u001b[0m \u001b[38;5;28;01mimport\u001b[39;00m \u001b[38;5;21;01mcirq\u001b[39;00m\n\u001b[0;32m----> 2\u001b[0m \u001b[38;5;28mprint\u001b[39m(\u001b[43mcirq\u001b[49m\u001b[38;5;241;43m.\u001b[39;49m\u001b[43mgoogle\u001b[49m\u001b[38;5;241m.\u001b[39mFoxtail)\n\u001b[1;32m      3\u001b[0m \u001b[38;5;66;03m# should print:\u001b[39;00m\n\u001b[1;32m      4\u001b[0m \u001b[38;5;66;03m# (0, 0)───(0, 1)───(0, 2)───(0, 3)───(0, 4)───(0, 5)───(0, 6)───(0, 7)───(0, 8)───(0, 9)───(0, 10)\u001b[39;00m\n\u001b[1;32m      5\u001b[0m \u001b[38;5;66;03m# │        │        │        │        │        │        │        │        │        │        │\u001b[39;00m\n\u001b[1;32m      6\u001b[0m \u001b[38;5;66;03m# │        │        │        │        │        │        │        │        │        │        │\u001b[39;00m\n\u001b[1;32m      7\u001b[0m \u001b[38;5;66;03m# (1, 0)───(1, 1)───(1, 2)───(1, 3)───(1, 4)───(1, 5)───(1, 6)───(1, 7)───(1, 8)───(1, 9)───(1, 10)\u001b[39;00m\n",
      "\u001b[0;31mAttributeError\u001b[0m: module 'cirq' has no attribute 'google'"
     ]
    }
   ],
   "source": [
    "import cirq\n",
    "print(cirq.google.Foxtail)\n",
    "# should print:\n",
    "# (0, 0)───(0, 1)───(0, 2)───(0, 3)───(0, 4)───(0, 5)───(0, 6)───(0, 7)───(0, 8)───(0, 9)───(0, 10)\n",
    "# │        │        │        │        │        │        │        │        │        │        │\n",
    "# │        │        │        │        │        │        │        │        │        │        │\n",
    "# (1, 0)───(1, 1)───(1, 2)───(1, 3)───(1, 4)───(1, 5)───(1, 6)───(1, 7)───(1, 8)───(1, 9)───(1, 10)"
   ]
  },
  {
   "cell_type": "markdown",
   "metadata": {},
   "source": [
    "<hr id=\"example\">\n",
    "\n",
    "## Execute An Example Program\n"
   ]
  },
  {
   "cell_type": "markdown",
   "metadata": {},
   "source": [
    "1) Create a quantum circuit"
   ]
  },
  {
   "cell_type": "code",
   "execution_count": null,
   "metadata": {},
   "outputs": [],
   "source": [
    "import cirq\n",
    "\n",
    "# Pick a qubit.\n",
    "qubit = cirq.GridQubit(0, 0)\n",
    "\n",
    "# Create a circuit\n",
    "circuit = cirq.Circuit(\n",
    "    cirq.X(qubit)**0.5,  # Square root of NOT.\n",
    "    cirq.measure(qubit, key='m')  # Measurement.\n",
    ")"
   ]
  },
  {
   "cell_type": "markdown",
   "metadata": {},
   "source": [
    "2) Draw the circuit\n",
    "\n",
    "_Run the cell once more if the figure is not shown_"
   ]
  },
  {
   "cell_type": "code",
   "execution_count": 6,
   "metadata": {
    "scrolled": true
   },
   "outputs": [
    {
     "name": "stdout",
     "output_type": "stream",
     "text": [
      "Circuit:\n",
      "(0, 0): ───X^0.5───M('m')───\n"
     ]
    }
   ],
   "source": [
    "print(\"Circuit:\")\n",
    "print(circuit)"
   ]
  },
  {
   "cell_type": "markdown",
   "metadata": {},
   "source": [
    "3) Execute the circuit 20 times in the local simulator and print the observed the outcomes"
   ]
  },
  {
   "cell_type": "code",
   "execution_count": 8,
   "metadata": {
    "scrolled": true
   },
   "outputs": [
    {
     "name": "stdout",
     "output_type": "stream",
     "text": [
      "Results:\n",
      "m=00000011111111111010\n"
     ]
    }
   ],
   "source": [
    "# Simulate the circuit several times.\n",
    "simulator = cirq.Simulator()\n",
    "result = simulator.run(circuit, repetitions=20)\n",
    "print(\"Results:\")\n",
    "print(result)"
   ]
  },
  {
   "cell_type": "markdown",
   "metadata": {},
   "source": [
    "4) Print a histogram of results"
   ]
  },
  {
   "cell_type": "code",
   "execution_count": 11,
   "metadata": {},
   "outputs": [
    {
     "name": "stdout",
     "output_type": "stream",
     "text": [
      "Counter({1: 12, 0: 8})\n"
     ]
    }
   ],
   "source": [
    "# Print a histogram of results\n",
    "results = result.histogram(key='m')\n",
    "print(results)"
   ]
  },
  {
   "cell_type": "markdown",
   "metadata": {},
   "source": [
    "Reference: https://pypi.org/project/cirq/"
   ]
  }
 ],
 "metadata": {
  "kernelspec": {
   "display_name": "Python 3 (ipykernel)",
   "language": "python",
   "name": "python3"
  },
  "language_info": {
   "codemirror_mode": {
    "name": "ipython",
    "version": 3
   },
   "file_extension": ".py",
   "mimetype": "text/x-python",
   "name": "python",
   "nbconvert_exporter": "python",
   "pygments_lexer": "ipython3",
   "version": "3.10.6"
  }
 },
 "nbformat": 4,
 "nbformat_minor": 2
}
