{
 "cells": [
  {
   "cell_type": "markdown",
   "id": "98e1ef16",
   "metadata": {
    "deletable": false,
    "editable": false,
    "nbgrader": {
     "cell_type": "markdown",
     "checksum": "6c7ffdc64c7b7f32ae79a1ef92940286",
     "grade": false,
     "grade_id": "cell-b97269821f032922",
     "locked": true,
     "schema_version": 3,
     "solution": false,
     "task": false
    }
   },
   "source": [
    "# Assignment - Simon's Algorithm\n",
    "\n",
    "The places where you have enter code are marked with `# YOUR CODE HERE`."
   ]
  },
  {
   "cell_type": "markdown",
   "id": "a1f2a58b",
   "metadata": {
    "deletable": false,
    "editable": false,
    "nbgrader": {
     "cell_type": "markdown",
     "checksum": "e406a17c916fcaa02a517ed792a750d8",
     "grade": false,
     "grade_id": "cell-8653e1cd8caf574b",
     "locked": true,
     "schema_version": 3,
     "solution": false,
     "task": false
    }
   },
   "source": [
    "### Question 1 (3 points)\n",
    "\n",
    "Complete the function `initialize_simon` that creates a quantum circuit consisting of two quantum registers and a classical register for solving Simon's problem.\n",
    "\n",
    "The function `initialize_simon` has\n",
    "\n",
    "- Input: $n$ such that you are given a function $f:\\{0,1\\}^n \\rightarrow \\{0,1\\}$\n",
    "- Returns: A `QuantumCircuit` object with two quantum registers and a classical register with the correct number of qubits andbits respectively."
   ]
  },
  {
   "cell_type": "code",
   "execution_count": 5,
   "id": "23be3643",
   "metadata": {
    "deletable": false,
    "nbgrader": {
     "cell_type": "code",
     "checksum": "19945997fcf53595e7c6a0b22ec34981",
     "grade": false,
     "grade_id": "cell-1c481841ce1cf70e",
     "locked": false,
     "schema_version": 3,
     "solution": true,
     "task": false
    }
   },
   "outputs": [],
   "source": [
    "from qiskit import QuantumRegister, ClassicalRegister\n",
    "\n",
    "def initialize_simon(n):\n",
    "    qr1=QuantumRegister(n,'Q_Reg_1')\n",
    "    qr2=QuantumRegister(n,'Q_Reg_2')\n",
    "    cr=ClassicalRegister(n,'C_Rreg')\n",
    "    qc=QuantumCircuit(qr1,qr2,cr)\n",
    "    # Do not modify anything below this line  \n",
    "    return qc"
   ]
  },
  {
   "cell_type": "markdown",
   "id": "1adc67a1",
   "metadata": {
    "deletable": false,
    "editable": false,
    "nbgrader": {
     "cell_type": "markdown",
     "checksum": "fd72078729d06bda175901a12fc61742",
     "grade": false,
     "grade_id": "cell-cb242ee8fad39d2f",
     "locked": true,
     "schema_version": 3,
     "solution": false,
     "task": false
    }
   },
   "source": [
    "You can use the following cell to test your function."
   ]
  },
  {
   "cell_type": "code",
   "execution_count": 6,
   "id": "47adde82",
   "metadata": {},
   "outputs": [
    {
     "data": {
      "image/png": "[encoded data removed]",
      "text/plain": [
       "<Figure size 270.252x618.722 with 1 Axes>"
      ]
     },
     "execution_count": 6,
     "metadata": {},
     "output_type": "execute_result"
    }
   ],
   "source": [
    "from qiskit import QuantumRegister, ClassicalRegister, QuantumCircuit, execute, Aer\n",
    "\n",
    "qc = initialize_simon(3)\n",
    "qc.draw(output='mpl')"
   ]
  },
  {
   "cell_type": "code",
   "execution_count": null,
   "id": "9a6e081c",
   "metadata": {
    "deletable": false,
    "editable": false,
    "nbgrader": {
     "cell_type": "code",
     "checksum": "43d28f016002498455847e24730e66af",
     "grade": true,
     "grade_id": "cell-6888491c6c07b964",
     "locked": true,
     "points": 2,
     "schema_version": 3,
     "solution": false,
     "task": false
    }
   },
   "outputs": [],
   "source": []
  },
  {
   "cell_type": "code",
   "execution_count": null,
   "id": "7b611342",
   "metadata": {
    "deletable": false,
    "editable": false,
    "nbgrader": {
     "cell_type": "code",
     "checksum": "74b61ff1cfa81e90e82a69166f097931",
     "grade": true,
     "grade_id": "cell-63131a98b6d4d9bb",
     "locked": true,
     "points": 1,
     "schema_version": 3,
     "solution": false,
     "task": false
    }
   },
   "outputs": [],
   "source": []
  },
  {
   "cell_type": "markdown",
   "id": "e5fd4371",
   "metadata": {
    "deletable": false,
    "editable": false,
    "nbgrader": {
     "cell_type": "markdown",
     "checksum": "93464b18333ebd5c14d2a56b85baae2f",
     "grade": false,
     "grade_id": "cell-60e1a84f45f7ec80",
     "locked": true,
     "schema_version": 3,
     "solution": false,
     "task": false
    }
   },
   "source": [
    "### Question 2 (4 points)\n",
    "\n",
    "Function `simon(n)` returns a single bitstring of length $n$, as a result of running Simon's algorithm. Complete the function `get_y_list` that calls the function `simon()` until $n-1$ bitstrings are found other than the 0 string. \n",
    "\n",
    "The function `get_y_list` has\n",
    "\n",
    "- Input: $n$ \n",
    "- Returns: A `list` of bitstrings `y`."
   ]
  },
  {
   "cell_type": "code",
   "execution_count": 7,
   "id": "43b4533f",
   "metadata": {
    "deletable": false,
    "nbgrader": {
     "cell_type": "code",
     "checksum": "4a0c51739c20ec7e45b25e36296666c9",
     "grade": false,
     "grade_id": "cell-cc5148d56d467c20",
     "locked": false,
     "schema_version": 3,
     "solution": true,
     "task": false
    }
   },
   "outputs": [],
   "source": [
    "from qiskit import QuantumRegister, ClassicalRegister\n",
    "\n",
    "def get_y_list(n):\n",
    "    y_list = []\n",
    "    # Do not modify anything above this line\n",
    "        # Loop until n-1 non-zero bitstrings are found\n",
    "    while len(y_list) < n - 1:\n",
    "        y = simon(n)\n",
    "        \n",
    "        # Check if y is non-zero and not already in the y_list\n",
    "        if y != '0' * n and y not in y_list:\n",
    "            y_list.append(y)\n",
    "    # Do not modify anything below this line  \n",
    "    return y_list"
   ]
  },
  {
   "cell_type": "markdown",
   "id": "84844a45",
   "metadata": {
    "deletable": false,
    "editable": false,
    "nbgrader": {
     "cell_type": "markdown",
     "checksum": "39ca4f751cf01686211b185f230cdaff",
     "grade": false,
     "grade_id": "cell-e64de19cdfa87e17",
     "locked": true,
     "schema_version": 3,
     "solution": false,
     "task": false
    }
   },
   "source": [
    "You can use the following cell to test your function."
   ]
  },
  {
   "cell_type": "code",
   "execution_count": 8,
   "id": "cbcc3e78",
   "metadata": {},
   "outputs": [
    {
     "name": "stdout",
     "output_type": "stream",
     "text": [
      "['110', '101']\n"
     ]
    }
   ],
   "source": [
    "# A very limited definition of Simon's function, only to help you test.\n",
    "# The fully formed Simon's function would be more complicated.\n",
    "def simon(n):\n",
    "    import itertools as it\n",
    "    import random\n",
    "    x = \"11\"+\"0\"*(n-2) #s is the string consisting of all 1's therefore x.s=0 always as there are two 1's in x\n",
    "    return random.choice([''.join(i) for i in it.permutations(x, n)]+[\"0\"*n])\n",
    "\n",
    "print(get_y_list(3))"
   ]
  },
  {
   "cell_type": "code",
   "execution_count": null,
   "id": "c4fa281c",
   "metadata": {
    "deletable": false,
    "editable": false,
    "nbgrader": {
     "cell_type": "code",
     "checksum": "e40b0ab1019a66af251c64a1d3e06e26",
     "grade": true,
     "grade_id": "cell-053c537fc2bf5202",
     "locked": true,
     "points": 2,
     "schema_version": 3,
     "solution": false,
     "task": false
    }
   },
   "outputs": [],
   "source": []
  },
  {
   "cell_type": "code",
   "execution_count": null,
   "id": "fdf28dc4",
   "metadata": {
    "deletable": false,
    "editable": false,
    "nbgrader": {
     "cell_type": "code",
     "checksum": "cfbc68aaa42f738a06d2b0f5c3968f97",
     "grade": true,
     "grade_id": "cell-2a64a0198d0587f8",
     "locked": true,
     "points": 2,
     "schema_version": 3,
     "solution": false,
     "task": false
    }
   },
   "outputs": [],
   "source": []
  },
  {
   "cell_type": "markdown",
   "id": "dbeb5f0d",
   "metadata": {
    "deletable": false,
    "editable": false,
    "nbgrader": {
     "cell_type": "markdown",
     "checksum": "6cb76d1800ec168a4baeb0894afe91d3",
     "grade": false,
     "grade_id": "cell-dc2ad3a8b26a5374",
     "locked": true,
     "schema_version": 3,
     "solution": false,
     "task": false
    }
   },
   "source": [
    "### Question 3 (3 points)\n",
    "\n",
    "Complete the function `oracle` which implements the following function: $f(00)=10$, $f(01)=10$, $f(10)=01$, $f(11)=01$  i.e. when the input is 00, you need to obtain '10' as the measurement outcome of the output register. Input will be encoded in the input register, while the output should be encoded in the output register.  \n",
    "\n",
    "The function `oracle` has\n",
    "\n",
    "- Inputs: A `QuantumRegister` object `input_reg` consisting of 2 qubits,  A `QuantumRegister` object `output_reg` consisting of 2 qubits and a `QuantumCircuit` object `qc`  \n",
    "- Returns: `QuantumCircuit` object `qc`  \n",
    "\n",
    "Note: Don't forget the Qiskit order."
   ]
  },
  {
   "cell_type": "code",
   "execution_count": 23,
   "id": "b372fffa",
   "metadata": {
    "deletable": false,
    "nbgrader": {
     "cell_type": "code",
     "checksum": "5f13e965ce146624a52aa39b081371da",
     "grade": false,
     "grade_id": "cell-837a99848cf0da43",
     "locked": false,
     "schema_version": 3,
     "solution": true,
     "task": false
    }
   },
   "outputs": [],
   "source": [
    "from qiskit import QuantumRegister, ClassicalRegister\n",
    "\n",
    "def oracle(input_reg,output_reg,qc):\n",
    "    # Do not modify anything above this line\n",
    "    qc.swap(input_reg[1],output_reg[1])\n",
    "    qc.x(output_reg[0])\n",
    "    qc.x(output_reg[1])\n",
    "    qc.swap(output_reg[0],output_reg[1])\n",
    "    qc.cx(output_reg[0],output_reg[1])\n",
    "    qc.swap(output_reg[0],output_reg[1])\n",
    "    return qc\n",
    "   "
   ]
  },
  {
   "cell_type": "markdown",
   "id": "4713a251",
   "metadata": {
    "deletable": false,
    "editable": false,
    "nbgrader": {
     "cell_type": "markdown",
     "checksum": "53f0b3b96f9496326e259356c4db302d",
     "grade": false,
     "grade_id": "cell-50dda4a17e0c7be9",
     "locked": true,
     "schema_version": 3,
     "solution": false,
     "task": false
    }
   },
   "source": [
    "You can use the following cell to test your function. Inputs and the outputs should match the function given above."
   ]
  },
  {
   "cell_type": "code",
   "execution_count": 24,
   "id": "07466cd8",
   "metadata": {},
   "outputs": [
    {
     "name": "stdout",
     "output_type": "stream",
     "text": [
      "Input: 00 Output: {'10': 1}\n",
      "Input: 01 Output: {'10': 1}\n",
      "Input: 10 Output: {'01': 1}\n",
      "Input: 11 Output: {'01': 1}\n"
     ]
    }
   ],
   "source": [
    "from qiskit import QuantumCircuit, execute, Aer, QuantumRegister, ClassicalRegister\n",
    "\n",
    "def test(input_state):\n",
    "    input_reg = QuantumRegister(2)\n",
    "    output_reg = QuantumRegister(2)\n",
    "    creg = ClassicalRegister(2)\n",
    "    qc = QuantumCircuit(input_reg, output_reg, creg)\n",
    "    \n",
    "    #initialization\n",
    "    if input_state[0]==\"1\":\n",
    "        qc.x(input_reg[1])\n",
    "    if input_state[1]==\"1\":\n",
    "        qc.x(input_reg[0])\n",
    "    \n",
    "    #call oracle\n",
    "    oracle(input_reg,output_reg,qc)\n",
    "    \n",
    "    qc.measure(output_reg,creg)\n",
    "    \n",
    "    job = execute(qc, Aer.get_backend('qasm_simulator'),shots=1)\n",
    "    counts = job.result().get_counts()\n",
    "    return counts\n",
    "\n",
    "for s in [\"00\",\"01\",\"10\",\"11\"]:\n",
    "    print(\"Input:\" ,s, \"Output:\", test(s))"
   ]
  },
  {
   "cell_type": "code",
   "execution_count": null,
   "id": "b2ecfd19",
   "metadata": {
    "deletable": false,
    "editable": false,
    "nbgrader": {
     "cell_type": "code",
     "checksum": "c04f2f222a8c81ff1fc270ce9210e60d",
     "grade": true,
     "grade_id": "cell-f919f5ba9db094aa",
     "locked": true,
     "points": 3,
     "schema_version": 3,
     "solution": false,
     "task": false
    }
   },
   "outputs": [],
   "source": []
  },
  {
   "cell_type": "code",
   "execution_count": null,
   "id": "efeee08a",
   "metadata": {},
   "outputs": [],
   "source": []
  }
 ],
 "metadata": {
  "kernelspec": {
   "display_name": "Python 3 (ipykernel)",
   "language": "python",
   "name": "python3"
  },
  "language_info": {
   "codemirror_mode": {
    "name": "ipython",
    "version": 3
   },
   "file_extension": ".py",
   "mimetype": "text/x-python",
   "name": "python",
   "nbconvert_exporter": "python",
   "pygments_lexer": "ipython3",
   "version": "3.10.6"
  }
 },
 "nbformat": 4,
 "nbformat_minor": 5
}
