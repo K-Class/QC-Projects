{
 "cells": [
  {
   "cell_type": "markdown",
   "metadata": {
    "deletable": false,
    "editable": false,
    "nbgrader": {
     "cell_type": "markdown",
     "checksum": "ac08d7ea268ce6a20a0e0a0d19c24352",
     "grade": false,
     "grade_id": "cell-33da3167fca0d468",
     "locked": true,
     "schema_version": 3,
     "solution": false,
     "task": false
    }
   },
   "source": [
    "# Homework - Grover MaxCut\n",
    "\n",
    "The places where you have enter code are marked with `# YOUR CODE HERE`."
   ]
  },
  {
   "cell_type": "code",
   "execution_count": 1,
   "metadata": {},
   "outputs": [],
   "source": [
    "import cirq\n",
    "from cirq import H, X, Y, Z, CX, inverse"
   ]
  },
  {
   "cell_type": "markdown",
   "metadata": {
    "deletable": false,
    "editable": false,
    "nbgrader": {
     "cell_type": "markdown",
     "checksum": "bf11ad3e7660aeddedc045e15c71a401",
     "grade": false,
     "grade_id": "cell-d981eeb5458c0744",
     "locked": true,
     "schema_version": 3,
     "solution": false,
     "task": false
    }
   },
   "source": [
    "## Question 1 (4 points)\n",
    "\n",
    "Write a function, `oracle010`, that implements an oracle that marks the state $|010 \\rangle$. The function `oracle010` has\n",
    "\n",
    "* input: `qq`, a 3-qubit register \n",
    "* returns: None\n",
    "\n",
    "The function should append a sequence of gates to `qq` to mark the state $|010\\rangle$ only. Don't append any measurements to `qq`.\n",
    "\n",
    "To help you test the function, we have provided the `grover_diffusion` and `grover` functions."
   ]
  },
  {
   "cell_type": "code",
   "execution_count": 2,
   "metadata": {
    "deletable": false,
    "nbgrader": {
     "cell_type": "code",
     "checksum": "3234c674937c9ea97ec27157e9062acf",
     "grade": false,
     "grade_id": "cell-a08e811a0e1777c7",
     "locked": false,
     "schema_version": 3,
     "solution": true,
     "task": false
    }
   },
   "outputs": [],
   "source": [
    "def oracle010(qq):\n",
    "    # YOUR CODE HERE\n",
    "    circuit = cirq.Circuit()\n",
    "    yield X.on_each(qq[0:3:2])\n",
    "    yield Z(qq[1]).controlled_by(qq[0], qq[2])\n",
    "    yield X.on_each(qq[0:3:2])"
   ]
  },
  {
   "cell_type": "code",
   "execution_count": 3,
   "metadata": {},
   "outputs": [
    {
     "data": {
      "text/html": [
       "<pre style=\"overflow: auto; white-space: pre;\">0: ───X───@───X───\n",
       "          │\n",
       "1: ───────@───────\n",
       "          │\n",
       "2: ───X───@───X───</pre>"
      ],
      "text/plain": [
       "0: ───X───@───X───\n",
       "          │\n",
       "1: ───────@───────\n",
       "          │\n",
       "2: ───X───@───X───"
      ]
     },
     "execution_count": 3,
     "metadata": {},
     "output_type": "execute_result"
    }
   ],
   "source": [
    "# visualize your implemented gates\n",
    "qqTest = cirq.LineQubit.range(3)\n",
    "circuit = cirq.Circuit()\n",
    "circuit.append(oracle010(qqTest))\n",
    "circuit"
   ]
  },
  {
   "cell_type": "code",
   "execution_count": 4,
   "metadata": {},
   "outputs": [],
   "source": [
    "# To check your solution, we need some to implement grover\n",
    "def grover_diffusion(qq,n):\n",
    "    yield H.on_each(*qq)\n",
    "    yield X.on_each(*qq)\n",
    "    yield Z(qq[n-1]).controlled_by(*(qq[0:n-1]))\n",
    "    yield X.on_each(*qq)\n",
    "    yield H.on_each(*qq)"
   ]
  },
  {
   "cell_type": "code",
   "execution_count": 5,
   "metadata": {},
   "outputs": [],
   "source": [
    "def grover(trials_number):\n",
    "    n=3\n",
    "    qq = cirq.LineQubit.range(n)\n",
    "    circuit = cirq.Circuit()\n",
    "    circuit.append(H.on_each(*qq))  \n",
    "\n",
    "    for i in range(2):\n",
    "        circuit.append(oracle010(qq))\n",
    "        circuit.append(grover_diffusion(qq,n))\n",
    "    circuit.append(cirq.measure(*qq, key='result'))\n",
    "\n",
    "    # determine the statistics of the measurements\n",
    "    s = cirq.Simulator() \n",
    "    \n",
    "    samples = s.run(circuit, repetitions=trials_number)\n",
    "\n",
    "    def bitstring(bits):\n",
    "        return \"\".join(str(int(b)) for b in bits)\n",
    "\n",
    "    counts = samples.histogram(key=\"result\",fold_func=bitstring)\n",
    "    print(counts)\n",
    "    return counts.get('010')"
   ]
  },
  {
   "cell_type": "code",
   "execution_count": 6,
   "metadata": {},
   "outputs": [
    {
     "name": "stdout",
     "output_type": "stream",
     "text": [
      "Counter({'010': 95, '111': 3, '001': 1, '101': 1})\n"
     ]
    },
    {
     "data": {
      "text/plain": [
       "95"
      ]
     },
     "execution_count": 6,
     "metadata": {},
     "output_type": "execute_result"
    }
   ],
   "source": [
    "# run grover to test if your function gives the right answer\n",
    "grover(100)"
   ]
  },
  {
   "cell_type": "code",
   "execution_count": 7,
   "metadata": {
    "deletable": false,
    "editable": false,
    "nbgrader": {
     "cell_type": "code",
     "checksum": "cf2c533cdb00d2a3feebe35eda382c3e",
     "grade": true,
     "grade_id": "cell-c892138426ad8ca2",
     "locked": true,
     "points": 4,
     "schema_version": 3,
     "solution": false,
     "task": false
    }
   },
   "outputs": [],
   "source": [
    "# hidden tests in this cell will be used for grading."
   ]
  },
  {
   "cell_type": "markdown",
   "metadata": {
    "deletable": false,
    "editable": false,
    "nbgrader": {
     "cell_type": "markdown",
     "checksum": "fd7997be432b382308c38c7229d29feb",
     "grade": false,
     "grade_id": "cell-cd7b8bfe0163bb3c",
     "locked": true,
     "schema_version": 3,
     "solution": false,
     "task": false
    }
   },
   "source": [
    "## Question 2 (6 points)\n",
    "\n",
    "Write an oracle for the graph described below to check whether it admits a valid 2-coloring. \n",
    "\n",
    "The function `oracle2` has\n",
    "\n",
    "* input: `qq`, a 12-qubit register \n",
    "* returns: None\n",
    "\n",
    "The function should append a sequence of gates to `qq` to check for a valid coloring. Don't append any measurements to `qq`.\n",
    "\n",
    "You can test the oracle with the provided `grover_diffusion`, `grover` and `oracle_computation2` functions.\n",
    "\n",
    "\n",
    "\n",
    "$G$ has 5 vertices. Use qubits 0-4 for the vertices, 5-10 for the edges and 11 as the ancilla.\n",
    "\n",
    "The list of edges:\n",
    "(0,3)\n",
    "(0,4)\n",
    "(1,3)\n",
    "(1,4)\n",
    "(2,3)\n",
    "(2,4)\n"
   ]
  },
  {
   "cell_type": "code",
   "execution_count": 8,
   "metadata": {
    "deletable": false,
    "nbgrader": {
     "cell_type": "code",
     "checksum": "16112e54c261f4b68868827304f15052",
     "grade": false,
     "grade_id": "cell-d0a829ac63d428cc",
     "locked": false,
     "schema_version": 3,
     "solution": true,
     "task": false
    }
   },
   "outputs": [],
   "source": [
    "def oracle2(qq):\n",
    "    # YOUR CODE HERE\n",
    "    # we will store on 5th qubit and check on edges (0,3)\n",
    "    yield CX(qq[0], qq[5])\n",
    "    yield CX(qq[3], qq[5])\n",
    "    # now storing it at 6th qubit and check on edges (0,4)\n",
    "    yield CX(qq[0], qq[6])\n",
    "    yield CX(qq[4], qq[6])\n",
    "    # now storing at 7th qubit and checking on edges (1,3)\n",
    "    yield CX(qq[1], qq[7])\n",
    "    yield CX(qq[3], qq[7])\n",
    "    # now storing at 8th qubit and checking on edges (1,4)\n",
    "    yield CX(qq[1], qq[8])\n",
    "    yield CX(qq[4], qq[8])\n",
    "    # now storing at 9th qubit and checking on edges (2,3)\n",
    "    yield CX(qq[2], qq[9])\n",
    "    yield CX(qq[3], qq[9])\n",
    "    # now storing at 10th qubit and checking on edges (2,4)\n",
    "    yield CX(qq[2], qq[10])\n",
    "    yield CX(qq[4], qq[10])\n",
    "    \n",
    "    yield X(qq[11]).controlled_by(*qq[5:10])"
   ]
  },
  {
   "cell_type": "code",
   "execution_count": 9,
   "metadata": {},
   "outputs": [],
   "source": [
    "# We need some code so you can check your solution\n",
    "def oracle_computation2(qq):\n",
    "    yield oracle2(qq)\n",
    "    yield Z(qq[11])\n",
    "    yield inverse(oracle2(qq))  "
   ]
  },
  {
   "cell_type": "code",
   "execution_count": 10,
   "metadata": {},
   "outputs": [],
   "source": [
    "def grover2(trials_number):    \n",
    "    import cirq\n",
    "    from cirq import X, H, Z, inverse, CX\n",
    "    s = cirq.Simulator()\n",
    "\n",
    "    qq = cirq.LineQubit.range(12)\n",
    "    n=5\n",
    "    \n",
    "    circuit = cirq.Circuit()\n",
    "    circuit.append(H.on_each(*(qq[0:n])))\n",
    "    for i in range(2):\n",
    "        circuit.append(oracle_computation2(qq))\n",
    "        circuit.append(grover_diffusion(qq,n))\n",
    "\n",
    "    circuit.append(cirq.measure(*(qq[0:n]), key='result'))\n",
    "\n",
    "    # determine the statistics of the measurements\n",
    "    samples = s.run(circuit, repetitions=trials_number)\n",
    "    result = samples.measurements[\"result\"]\n",
    "\n",
    "    def bitstring(bits):\n",
    "        return \"\".join(str(int(b)) for b in bits)\n",
    "\n",
    "    counts = samples.histogram(key=\"result\",fold_func=bitstring)\n",
    "    return counts"
   ]
  },
  {
   "cell_type": "code",
   "execution_count": 11,
   "metadata": {},
   "outputs": [
    {
     "data": {
      "text/plain": [
       "Counter({'11100': 463,\n",
       "         '00011': 425,\n",
       "         '00110': 3,\n",
       "         '10100': 7,\n",
       "         '01010': 4,\n",
       "         '11001': 4,\n",
       "         '00000': 8,\n",
       "         '11000': 4,\n",
       "         '10101': 4,\n",
       "         '00001': 4,\n",
       "         '10110': 5,\n",
       "         '00010': 3,\n",
       "         '10011': 4,\n",
       "         '00111': 6,\n",
       "         '01110': 11,\n",
       "         '10010': 4,\n",
       "         '00101': 2,\n",
       "         '11101': 3,\n",
       "         '01000': 9,\n",
       "         '01001': 2,\n",
       "         '11010': 2,\n",
       "         '01011': 5,\n",
       "         '01111': 4,\n",
       "         '00100': 3,\n",
       "         '01101': 3,\n",
       "         '10111': 2,\n",
       "         '10001': 1,\n",
       "         '10000': 4,\n",
       "         '11011': 1})"
      ]
     },
     "execution_count": 11,
     "metadata": {},
     "output_type": "execute_result"
    }
   ],
   "source": [
    "#You can use this cell to test your solution\n",
    "shots=1000\n",
    "grover2(shots)"
   ]
  },
  {
   "cell_type": "code",
   "execution_count": 12,
   "metadata": {
    "deletable": false,
    "editable": false,
    "nbgrader": {
     "cell_type": "code",
     "checksum": "4246ce18f04e859e5569cd7b80a1a3ee",
     "grade": true,
     "grade_id": "cell-f3af2ece23c10d8c",
     "locked": true,
     "points": 6,
     "schema_version": 3,
     "solution": false,
     "task": false
    }
   },
   "outputs": [],
   "source": [
    "# hidden tests in this cell will be used for grading."
   ]
  },
  {
   "cell_type": "markdown",
   "metadata": {
    "deletable": false,
    "editable": false,
    "nbgrader": {
     "cell_type": "markdown",
     "checksum": "5c2f7023c6959816e24b4552b0900b64",
     "grade": false,
     "grade_id": "cell-70019a2ede111a61",
     "locked": true,
     "schema_version": 3,
     "solution": false,
     "task": false
    }
   },
   "source": [
    "## Question 3 (10 points)\n",
    "\n",
    "Write an oracle for the graph described below to check whether there exists a coloring with 4 edges connecting vertices with different colors.\n",
    "\n",
    "The function `oracle3` has\n",
    "\n",
    "* input: `qq`, a 13-qubit register \n",
    "* returns: None\n",
    "\n",
    "The function should append a sequence of gates to `qq` to check whether there exists a coloring with 4 edges connecting vertices with different colors. Don't append any measurements to `qq`.\n",
    "\n",
    "You can test the oracle with the provided `grover_diffusion`, `grover` and `oracle_computation3` functions.\n",
    "\n",
    "\n",
    "$G$ has 4 vertices. Use qubits 0-3 for the vertices, 4-8 for the edges, 9-11 for the addition and 12 as the ancilla.\n",
    "\n",
    "The list of edges: \n",
    "(0,1)\n",
    "(0,2)\n",
    "(0,3)\n",
    "(1,2)\n",
    "(1,3)"
   ]
  },
  {
   "cell_type": "code",
   "execution_count": 13,
   "metadata": {
    "deletable": false,
    "nbgrader": {
     "cell_type": "code",
     "checksum": "143856f98ba27993913f66a2e3ee33cf",
     "grade": false,
     "grade_id": "cell-a88eeb3907a822ff",
     "locked": false,
     "schema_version": 3,
     "solution": true,
     "task": false
    }
   },
   "outputs": [],
   "source": [
    "def oracle3(qq):\n",
    "    # YOUR CODE HERE\n",
    "    \n",
    "    # we will store on 4th qubit and check on edges (0,1)\n",
    "    yield CX(qq[0],qq[4])\n",
    "    yield CX(qq[1],qq[4])\n",
    "    \n",
    "    # now storing it at 5th qubit and check on edges (0,2)\n",
    "    yield CX(qq[0],qq[5])\n",
    "    yield CX(qq[2],qq[5])\n",
    "    \n",
    "    # now storing at 6th qubit and checking on edges (0,3)\n",
    "    yield CX(qq[0],qq[6])\n",
    "    yield CX(qq[3],qq[6])\n",
    "    \n",
    "    # now storing at 7th qubit and checking on edges (1,2)\n",
    "    yield CX(qq[1],qq[7])\n",
    "    yield CX(qq[2],qq[7])\n",
    "    \n",
    "    # now storing at 8th qubit and checking on edges (1,3)\n",
    "    yield CX(qq[1],qq[8])\n",
    "    yield CX(qq[3],qq[8])\n",
    "    \n",
    "    #adding values of edge (0,1)\n",
    "    yield CX(qq[4],qq[9])\n",
    "    \n",
    "    #adding value of edge (0,2)\n",
    "    yield CCX(qq[5],qq[9],qq[10])\n",
    "    yield CX(qq[5],qq[9])\n",
    "    \n",
    "    #adding value of edge(0,3)\n",
    "    yield CCX(qq[6],qq[9],qq[10])\n",
    "    yield CX(qq[6],qq[9])\n",
    "    \n",
    "    #adding value of edge(1,2)\n",
    "    yield X(qq[11]).controlled_by(qq[7], qq[9],qq[10])\n",
    "    yield CCX(qq[7], qq[9], qq[10])\n",
    "    yield CX(qq[7], qq[9])\n",
    "    \n",
    "    #adding value of edge(1,3)\n",
    "    yield X(qq[11]).controlled_by(qq[8], qq[9],qq[10])\n",
    "    yield CCX(qq[8], qq[9], qq[10])\n",
    "    yield CX(qq[8], qq[9])\n",
    "    \n",
    "    # checking whether qubits qq[11], q[10], q[9] have 100 or not\n",
    "    yield X(qq[10])\n",
    "    yield X(qq[9])\n",
    "    \n",
    "    # We verify by applying X controlled by [9:11] qubits on ancilla qq[12],see if qq[11], qq[10], q[9] is 111, qq[12] =1 \n",
    "    yield X(qq[12]).controlled_by(qq[9],qq[10],qq[11])\n"
   ]
  },
  {
   "cell_type": "code",
   "execution_count": 14,
   "metadata": {},
   "outputs": [],
   "source": [
    "# We need some code so you can check your solution\n",
    "def oracle_computation3(qq):\n",
    "    yield oracle3(qq)\n",
    "    yield Z(qq[12])\n",
    "    yield inverse(oracle3(qq))  "
   ]
  },
  {
   "cell_type": "code",
   "execution_count": 15,
   "metadata": {},
   "outputs": [],
   "source": [
    "import cirq\n",
    "from cirq import X, H, Z, inverse, CX, CCX\n",
    "    \n",
    "def grover3(trials_number):    \n",
    "    s = cirq.Simulator()\n",
    "\n",
    "    qq = cirq.LineQubit.range(13)\n",
    "    n=4\n",
    "\n",
    "    circuit = cirq.Circuit()\n",
    "    circuit.append(H.on_each(*(qq[0:n])))\n",
    "    for i in range(2):\n",
    "        circuit.append(oracle_computation3(qq))\n",
    "        circuit.append(grover_diffusion(qq,n))\n",
    "\n",
    "    circuit.append(cirq.measure(*(qq[0:n]), key='result'))\n",
    "\n",
    "    # determine the statistics of the measurements\n",
    "    samples = s.run(circuit, repetitions=trials_number)\n",
    "    result = samples.measurements[\"result\"]\n",
    "\n",
    "    def bitstring(bits):\n",
    "        return \"\".join(str(int(b)) for b in bits)\n",
    "\n",
    "    counts = samples.histogram(key=\"result\",fold_func=bitstring)\n",
    "    return counts"
   ]
  },
  {
   "cell_type": "code",
   "execution_count": 16,
   "metadata": {
    "scrolled": true
   },
   "outputs": [
    {
     "data": {
      "text/plain": [
       "Counter({'0011': 474,\n",
       "         '1110': 5,\n",
       "         '1100': 471,\n",
       "         '1000': 4,\n",
       "         '0110': 4,\n",
       "         '0001': 4,\n",
       "         '0010': 4,\n",
       "         '0000': 4,\n",
       "         '1101': 7,\n",
       "         '0100': 4,\n",
       "         '1111': 5,\n",
       "         '0101': 2,\n",
       "         '1001': 5,\n",
       "         '1011': 3,\n",
       "         '0111': 4})"
      ]
     },
     "execution_count": 16,
     "metadata": {},
     "output_type": "execute_result"
    }
   ],
   "source": [
    "#You can use this cell to test your solution\n",
    "shots=1000\n",
    "grover3(shots)"
   ]
  },
  {
   "cell_type": "code",
   "execution_count": 17,
   "metadata": {
    "deletable": false,
    "editable": false,
    "nbgrader": {
     "cell_type": "code",
     "checksum": "2fb4f23a2628baa5c4bbd53548198e9c",
     "grade": true,
     "grade_id": "cell-e70ddbb5f64a88b3",
     "locked": true,
     "points": 10,
     "schema_version": 3,
     "solution": false,
     "task": false
    }
   },
   "outputs": [],
   "source": [
    "# hidden tests in this cell will be used for grading."
   ]
  }
 ],
 "metadata": {
  "kernelspec": {
   "display_name": "Python 3 (ipykernel)",
   "language": "python",
   "name": "python3"
  },
  "language_info": {
   "codemirror_mode": {
    "name": "ipython",
    "version": 3
   },
   "file_extension": ".py",
   "mimetype": "text/x-python",
   "name": "python",
   "nbconvert_exporter": "python",
   "pygments_lexer": "ipython3",
   "version": "3.8.17"
  }
 },
 "nbformat": 4,
 "nbformat_minor": 4
}
