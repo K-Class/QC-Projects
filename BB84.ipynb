{
 "cells": [
  {
   "cell_type": "code",
   "execution_count": 10,
   "id": "72b9374f",
   "metadata": {},
   "outputs": [],
   "source": [
    "from qiskit import QuantumCircuit, execute, Aer\n",
    "from qiskit.visualization import plot_histogram, plot_bloch_multivector\n",
    "from numpy.random import randint\n",
    "import numpy as np\n",
    "from qiskit.providers.aer import QasmSimulator\n",
    "%matplotlib inline"
   ]
  },
  {
   "cell_type": "code",
   "execution_count": 11,
   "id": "79ca23ef",
   "metadata": {},
   "outputs": [
    {
     "name": "stdout",
     "output_type": "stream",
     "text": [
      "Alice's State:\t [1 0 1 0 0 0 0 0 1 1 0 0 0 0 0 0 1 0 0 0 0 1 0 0 0 1 0 1 1 0 0 1]\n",
      "Alice's Bases:\t [0 1 1 1 1 0 0 1 1 0 1 1 1 0 1 0 0 1 0 1 1 1 1 1 1 0 0 1 0 0 1 1]\n",
      "Bob's Bases:\t [1 0 1 1 0 0 1 0 1 0 1 1 0 0 1 0 1 0 0 1 0 1 0 0 0 0 1 1 1 1 1 0]\n"
     ]
    }
   ],
   "source": [
    "num_qubits = 32\n",
    "\n",
    "alice_basis = np.random.randint(2, size=num_qubits)\n",
    "alice_state = np.random.randint(2, size=num_qubits)\n",
    "bob_basis = np.random.randint(2, size=num_qubits)\n",
    "\n",
    "\n",
    "print(f\"Alice's State:\\t {np.array2string(alice_state)}\")\n",
    "print(f\"Alice's Bases:\\t {np.array2string(alice_basis)}\")\n",
    "print(f\"Bob's Bases:\\t {np.array2string(bob_basis)}\")"
   ]
  },
  {
   "cell_type": "code",
   "execution_count": 16,
   "id": "84acf8c4",
   "metadata": {},
   "outputs": [],
   "source": [
    "def bb84_circuit(state, basis, measurement_basis):\n",
    "   \n",
    "    #state: array of 0s and 1s denoting the state to be encoded\n",
    "    #basis: array of 0s and 1s denoting the basis to be used for encoding\n",
    "                #0 -> Computational Basis\n",
    "                #1 -> Hadamard Basis\n",
    "    #meas_basis: array of 0s and 1s denoting the basis to be used for measurement\n",
    "                #0 -> Computational Basis\n",
    "                #1 -> Hadamard Basis\n",
    "    \n",
    "    num_qubits = len(state)\n",
    "    \n",
    "    circuit = QuantumCircuit(num_qubits)\n",
    "\n",
    "    # Sender prepares qubits\n",
    "    for i in range(len(basis)):\n",
    "        if state[i] == 1:\n",
    "            circuit.x(i)\n",
    "        if basis[i] == 1:\n",
    "            circuit.h(i)\n",
    "   \n",
    "\n",
    "    # Measuring action performed by Bob\n",
    "    for i in range(len(measurement_basis)):\n",
    "        if measurement_basis[i] == 1:\n",
    "            circuit.h(i)\n",
    "\n",
    "       \n",
    "    \n",
    "    return bb84_circuit"
   ]
  },
  {
   "cell_type": "code",
   "execution_count": 17,
   "id": "88ecefa4",
   "metadata": {},
   "outputs": [
    {
     "ename": "AttributeError",
     "evalue": "'function' object has no attribute 'reverse_bits'",
     "output_type": "error",
     "traceback": [
      "\u001b[0;31m---------------------------------------------------------------------------\u001b[0m",
      "\u001b[0;31mAttributeError\u001b[0m                            Traceback (most recent call last)",
      "Cell \u001b[0;32mIn[17], line 2\u001b[0m\n\u001b[1;32m      1\u001b[0m circuit \u001b[38;5;241m=\u001b[39m bb84_circuit(alice_state, alice_basis, bob_basis)\n\u001b[0;32m----> 2\u001b[0m key \u001b[38;5;241m=\u001b[39m execute(\u001b[43mcircuit\u001b[49m\u001b[38;5;241;43m.\u001b[39;49m\u001b[43mreverse_bits\u001b[49m(),backend\u001b[38;5;241m=\u001b[39mQasmSimulator(),shots\u001b[38;5;241m=\u001b[39m\u001b[38;5;241m1\u001b[39m)\u001b[38;5;241m.\u001b[39mresult()\u001b[38;5;241m.\u001b[39mget_counts()\u001b[38;5;241m.\u001b[39mmost_frequent()\n\u001b[1;32m      3\u001b[0m encryption_key \u001b[38;5;241m=\u001b[39m \u001b[38;5;124m'\u001b[39m\u001b[38;5;124m'\u001b[39m\n\u001b[1;32m      4\u001b[0m \u001b[38;5;28;01mfor\u001b[39;00m i \u001b[38;5;129;01min\u001b[39;00m \u001b[38;5;28mrange\u001b[39m(num_qubits):\n",
      "\u001b[0;31mAttributeError\u001b[0m: 'function' object has no attribute 'reverse_bits'"
     ]
    }
   ],
   "source": [
    "circuit = bb84_circuit(alice_state, alice_basis, bob_basis)\n",
    "key = execute(circuit.reverse_bits(),backend=QasmSimulator(),shots=1).result().get_counts().most_frequent()\n",
    "encryption_key = ''\n",
    "for i in range(num_qubits):\n",
    "    if alice_basis[i] == bob_basis[i]:\n",
    "         encryption_key += str(key[i])\n",
    "print(f\"Key: {encryption_key}\")"
   ]
  },
  {
   "cell_type": "code",
   "execution_count": null,
   "id": "28a65189",
   "metadata": {},
   "outputs": [],
   "source": []
  },
  {
   "cell_type": "code",
   "execution_count": null,
   "id": "fe892103",
   "metadata": {},
   "outputs": [],
   "source": []
  },
  {
   "cell_type": "code",
   "execution_count": null,
   "id": "e925d01c",
   "metadata": {},
   "outputs": [],
   "source": []
  },
  {
   "cell_type": "code",
   "execution_count": null,
   "id": "2c15f414",
   "metadata": {},
   "outputs": [],
   "source": []
  },
  {
   "cell_type": "code",
   "execution_count": null,
   "id": "6bcf3c37",
   "metadata": {},
   "outputs": [],
   "source": []
  }
 ],
 "metadata": {
  "kernelspec": {
   "display_name": "Python 3 (ipykernel)",
   "language": "python",
   "name": "python3"
  },
  "language_info": {
   "codemirror_mode": {
    "name": "ipython",
    "version": 3
   },
   "file_extension": ".py",
   "mimetype": "text/x-python",
   "name": "python",
   "nbconvert_exporter": "python",
   "pygments_lexer": "ipython3",
   "version": "3.10.6"
  }
 },
 "nbformat": 4,
 "nbformat_minor": 5
}
