{
 "cells": [
  {
   "cell_type": "markdown",
   "id": "9e41052c",
   "metadata": {},
   "source": [
    "# Simulator and Real Quantum Computer\n",
    "In this chapter, we are going to learn how to run a quantum code on a simulator and on real quantum computer."
   ]
  },
  {
   "cell_type": "markdown",
   "id": "2a3b556a",
   "metadata": {},
   "source": [
    "### Use the following line of code in Every Qiskit Notebook to import needed libraries."
   ]
  },
  {
   "cell_type": "code",
   "execution_count": 1,
   "id": "081dca5d",
   "metadata": {},
   "outputs": [],
   "source": [
    "from qiskit import *          "
   ]
  },
  {
   "cell_type": "markdown",
   "id": "96dccd9c",
   "metadata": {},
   "source": [
    "## Creating Circuit\n",
    "We design a quantum circuit with a single quantum bit and a single classical bit.\n",
    "\n",
    "We apply the NOT operator on the quantum bit, and then we measure the quantum bit, the outcome of which will be saved on the classical bit."
   ]
  },
  {
   "cell_type": "code",
   "execution_count": 2,
   "id": "e6a5f2fe",
   "metadata": {},
   "outputs": [],
   "source": [
    "q= QuantumRegister(1,\"qreg\")     # in this example we will use a single quantum bit\n",
    "                                 # the second parameter is optional"
   ]
  },
  {
   "cell_type": "markdown",
   "id": "4a308a9a",
   "metadata": {},
   "source": [
    "To retrieve an information from a quantum bit, it must be measured. The measurement result is stored classically. Therefore, we also use a classical regiser with classical bit(s)"
   ]
  },
  {
   "cell_type": "code",
   "execution_count": 3,
   "id": "991bc4d4",
   "metadata": {},
   "outputs": [],
   "source": [
    "c = ClassicalRegister(1,\"creg\")  # in this example we will use a single classical bit\n",
    "                                 # the second parameter is optional"
   ]
  },
  {
   "cell_type": "code",
   "execution_count": null,
   "id": "b405dbad",
   "metadata": {},
   "outputs": [],
   "source": []
  }
 ],
 "metadata": {
  "kernelspec": {
   "display_name": "Python 3 (ipykernel)",
   "language": "python",
   "name": "python3"
  },
  "language_info": {
   "codemirror_mode": {
    "name": "ipython",
    "version": 3
   },
   "file_extension": ".py",
   "mimetype": "text/x-python",
   "name": "python",
   "nbconvert_exporter": "python",
   "pygments_lexer": "ipython3",
   "version": "3.10.6"
  }
 },
 "nbformat": 4,
 "nbformat_minor": 5
}
