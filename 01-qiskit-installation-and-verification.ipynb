{
 "cells": [
  {
   "cell_type": "markdown",
   "id": "8a834b5b",
   "metadata": {},
   "source": [
    "# Qiskit Installation and Verification"
   ]
  },
  {
   "cell_type": "markdown",
   "id": "c199f7cb",
   "metadata": {},
   "source": [
    "This Jupiter Notebook is designed to check whether Qiskit is installed on the system. If Qiskit is not found, this notebook provides step-by-step instructions on how to install and verify the installation of Qiskit."
   ]
  },
  {
   "cell_type": "markdown",
   "id": "a47c2756",
   "metadata": {},
   "source": [
    "## Checking if Qiskit is Installed"
   ]
  },
  {
   "cell_type": "markdown",
   "id": "9fbe0b4b",
   "metadata": {},
   "source": [
    "The following code tells you about the version number of any *Qiskit* library that is already installed in your system."
   ]
  },
  {
   "cell_type": "code",
   "execution_count": 1,
   "id": "b7fcafd0",
   "metadata": {},
   "outputs": [
    {
     "name": "stdout",
     "output_type": "stream",
     "text": [
      "The version of Qiskit is 0.43.1\n",
      "\n",
      "The version of each component:\n",
      "qiskit-terra -> 0.24.1\n",
      "qiskit-aer -> 0.12.0\n",
      "qiskit-ignis -> None\n",
      "qiskit-ibmq-provider -> 0.20.2\n",
      "qiskit -> 0.43.1\n",
      "qiskit-nature -> None\n",
      "qiskit-finance -> None\n",
      "qiskit-optimization -> None\n",
      "qiskit-machine-learning -> None\n"
     ]
    }
   ],
   "source": [
    "import qiskit\n",
    "versions = qiskit.__qiskit_version__\n",
    "print(\"The version of Qiskit is\",versions['qiskit'])\n",
    "print()\n",
    "print(\"The version of each component:\")\n",
    "for key in versions:\n",
    "    print(key,\"->\",versions[key])"
   ]
  },
  {
   "cell_type": "markdown",
   "id": "71ecea8e",
   "metadata": {},
   "source": [
    "## Qiskit Installation"
   ]
  },
  {
   "cell_type": "markdown",
   "id": "91727adb",
   "metadata": {},
   "source": [
    "#### Make sure to restart the kernel after executing the following command to apply the changes to the current norebook."
   ]
  },
  {
   "cell_type": "code",
   "execution_count": 2,
   "id": "cc89f4e9",
   "metadata": {},
   "outputs": [
    {
     "name": "stdout",
     "output_type": "stream",
     "text": [
      "Requirement already satisfied: qiskit[visualization] in /home/mirza/.local/lib/python3.10/site-packages (0.43.1)\n",
      "Collecting qiskit[visualization]\n",
      "  Downloading qiskit-0.43.2.tar.gz (9.1 kB)\n",
      "  Installing build dependencies ... \u001b[?25ldone\n",
      "\u001b[?25h  Getting requirements to build wheel ... \u001b[?25ldone\n",
      "\u001b[?25h  Installing backend dependencies ... \u001b[?25ldone\n",
      "\u001b[?25h  Preparing metadata (pyproject.toml) ... \u001b[?25ldone\n",
      "\u001b[?25hRequirement already satisfied: qiskit-terra==0.24.1 in /home/mirza/.local/lib/python3.10/site-packages (from qiskit[visualization]) (0.24.1)\n",
      "Collecting qiskit-aer==0.12.1 (from qiskit[visualization])\n",
      "  Downloading qiskit_aer-0.12.1-cp310-cp310-manylinux_2_17_x86_64.manylinux2014_x86_64.whl (12.8 MB)\n",
      "\u001b[2K     \u001b[38;2;114;156;31m━━━━━━━━━━━━━━━━━━━━━━━━━━━━━━━━━━━━━━━━\u001b[0m \u001b[32m12.8/12.8 MB\u001b[0m \u001b[31m3.7 MB/s\u001b[0m eta \u001b[36m0:00:00\u001b[0mm eta \u001b[36m0:00:01\u001b[0m[36m0:00:01\u001b[0m\n",
      "\u001b[?25hRequirement already satisfied: qiskit-ibmq-provider==0.20.2 in /home/mirza/.local/lib/python3.10/site-packages (from qiskit[visualization]) (0.20.2)\n",
      "Requirement already satisfied: matplotlib>=2.1 in /usr/lib/python3/dist-packages (from qiskit[visualization]) (3.5.1)\n",
      "Requirement already satisfied: ipywidgets>=7.3.0 in /home/mirza/.local/lib/python3.10/site-packages (from qiskit[visualization]) (8.0.6)\n",
      "Requirement already satisfied: pydot in /home/mirza/.local/lib/python3.10/site-packages (from qiskit[visualization]) (1.4.2)\n",
      "Requirement already satisfied: pillow>=4.2.1 in /usr/lib/python3/dist-packages (from qiskit[visualization]) (9.0.1)\n",
      "Requirement already satisfied: pylatexenc>=1.4 in /home/mirza/.local/lib/python3.10/site-packages (from qiskit[visualization]) (2.10)\n",
      "Requirement already satisfied: seaborn>=0.9.0 in /home/mirza/.local/lib/python3.10/site-packages (from qiskit[visualization]) (0.12.2)\n",
      "Requirement already satisfied: pygments>=2.4 in /home/mirza/.local/lib/python3.10/site-packages (from qiskit[visualization]) (2.15.1)\n",
      "Requirement already satisfied: numpy>=1.16.3 in /usr/lib/python3/dist-packages (from qiskit-aer==0.12.1->qiskit[visualization]) (1.21.5)\n",
      "Requirement already satisfied: scipy>=1.0 in /usr/lib/python3/dist-packages (from qiskit-aer==0.12.1->qiskit[visualization]) (1.8.0)\n",
      "Requirement already satisfied: requests>=2.19 in /home/mirza/.local/lib/python3.10/site-packages (from qiskit-ibmq-provider==0.20.2->qiskit[visualization]) (2.31.0)\n",
      "Requirement already satisfied: requests-ntlm<=1.1.0 in /home/mirza/.local/lib/python3.10/site-packages (from qiskit-ibmq-provider==0.20.2->qiskit[visualization]) (1.1.0)\n",
      "Requirement already satisfied: urllib3>=1.21.1 in /usr/lib/python3/dist-packages (from qiskit-ibmq-provider==0.20.2->qiskit[visualization]) (1.26.5)\n",
      "Requirement already satisfied: python-dateutil>=2.8.0 in /home/mirza/.local/lib/python3.10/site-packages (from qiskit-ibmq-provider==0.20.2->qiskit[visualization]) (2.8.2)\n",
      "Requirement already satisfied: websocket-client>=1.5.1 in /home/mirza/.local/lib/python3.10/site-packages (from qiskit-ibmq-provider==0.20.2->qiskit[visualization]) (1.6.0)\n",
      "Requirement already satisfied: websockets>=10.0 in /home/mirza/.local/lib/python3.10/site-packages (from qiskit-ibmq-provider==0.20.2->qiskit[visualization]) (11.0.3)\n",
      "Requirement already satisfied: rustworkx>=0.12.0 in /home/mirza/.local/lib/python3.10/site-packages (from qiskit-terra==0.24.1->qiskit[visualization]) (0.13.0)\n",
      "Requirement already satisfied: ply>=3.10 in /usr/lib/python3/dist-packages (from qiskit-terra==0.24.1->qiskit[visualization]) (3.11)\n",
      "Requirement already satisfied: psutil>=5 in /home/mirza/.local/lib/python3.10/site-packages (from qiskit-terra==0.24.1->qiskit[visualization]) (5.9.5)\n",
      "Requirement already satisfied: sympy>=1.3 in /usr/lib/python3/dist-packages (from qiskit-terra==0.24.1->qiskit[visualization]) (1.9)\n",
      "Requirement already satisfied: dill>=0.3 in /home/mirza/.local/lib/python3.10/site-packages (from qiskit-terra==0.24.1->qiskit[visualization]) (0.3.6)\n",
      "Requirement already satisfied: stevedore>=3.0.0 in /home/mirza/.local/lib/python3.10/site-packages (from qiskit-terra==0.24.1->qiskit[visualization]) (5.1.0)\n",
      "Requirement already satisfied: symengine<0.10,>=0.9 in /home/mirza/.local/lib/python3.10/site-packages (from qiskit-terra==0.24.1->qiskit[visualization]) (0.9.2)\n",
      "Requirement already satisfied: ipykernel>=4.5.1 in /home/mirza/.local/lib/python3.10/site-packages (from ipywidgets>=7.3.0->qiskit[visualization]) (6.23.2)\n",
      "Requirement already satisfied: ipython>=6.1.0 in /home/mirza/.local/lib/python3.10/site-packages (from ipywidgets>=7.3.0->qiskit[visualization]) (8.14.0)\n",
      "Requirement already satisfied: traitlets>=4.3.1 in /home/mirza/.local/lib/python3.10/site-packages (from ipywidgets>=7.3.0->qiskit[visualization]) (5.9.0)\n",
      "Requirement already satisfied: widgetsnbextension~=4.0.7 in /home/mirza/.local/lib/python3.10/site-packages (from ipywidgets>=7.3.0->qiskit[visualization]) (4.0.7)\n",
      "Requirement already satisfied: jupyterlab-widgets~=3.0.7 in /home/mirza/.local/lib/python3.10/site-packages (from ipywidgets>=7.3.0->qiskit[visualization]) (3.0.7)\n",
      "Requirement already satisfied: pandas>=0.25 in /home/mirza/.local/lib/python3.10/site-packages (from seaborn>=0.9.0->qiskit[visualization]) (2.0.2)\n",
      "Requirement already satisfied: pyparsing>=2.1.4 in /usr/lib/python3/dist-packages (from pydot->qiskit[visualization]) (2.4.7)\n",
      "Requirement already satisfied: comm>=0.1.1 in /home/mirza/.local/lib/python3.10/site-packages (from ipykernel>=4.5.1->ipywidgets>=7.3.0->qiskit[visualization]) (0.1.3)\n",
      "Requirement already satisfied: debugpy>=1.6.5 in /home/mirza/.local/lib/python3.10/site-packages (from ipykernel>=4.5.1->ipywidgets>=7.3.0->qiskit[visualization]) (1.6.7)\n",
      "Requirement already satisfied: jupyter-client>=6.1.12 in /home/mirza/.local/lib/python3.10/site-packages (from ipykernel>=4.5.1->ipywidgets>=7.3.0->qiskit[visualization]) (8.2.0)\n",
      "Requirement already satisfied: jupyter-core!=5.0.*,>=4.12 in /home/mirza/.local/lib/python3.10/site-packages (from ipykernel>=4.5.1->ipywidgets>=7.3.0->qiskit[visualization]) (5.3.1)\n",
      "Requirement already satisfied: matplotlib-inline>=0.1 in /home/mirza/.local/lib/python3.10/site-packages (from ipykernel>=4.5.1->ipywidgets>=7.3.0->qiskit[visualization]) (0.1.6)\n",
      "Requirement already satisfied: nest-asyncio in /home/mirza/.local/lib/python3.10/site-packages (from ipykernel>=4.5.1->ipywidgets>=7.3.0->qiskit[visualization]) (1.5.6)\n",
      "Requirement already satisfied: packaging in /home/mirza/.local/lib/python3.10/site-packages (from ipykernel>=4.5.1->ipywidgets>=7.3.0->qiskit[visualization]) (23.1)\n",
      "Requirement already satisfied: pyzmq>=20 in /home/mirza/.local/lib/python3.10/site-packages (from ipykernel>=4.5.1->ipywidgets>=7.3.0->qiskit[visualization]) (25.1.0)\n",
      "Requirement already satisfied: tornado>=6.1 in /home/mirza/.local/lib/python3.10/site-packages (from ipykernel>=4.5.1->ipywidgets>=7.3.0->qiskit[visualization]) (6.3.2)\n",
      "Requirement already satisfied: backcall in /home/mirza/.local/lib/python3.10/site-packages (from ipython>=6.1.0->ipywidgets>=7.3.0->qiskit[visualization]) (0.2.0)\n",
      "Requirement already satisfied: decorator in /home/mirza/.local/lib/python3.10/site-packages (from ipython>=6.1.0->ipywidgets>=7.3.0->qiskit[visualization]) (5.1.1)\n",
      "Requirement already satisfied: jedi>=0.16 in /home/mirza/.local/lib/python3.10/site-packages (from ipython>=6.1.0->ipywidgets>=7.3.0->qiskit[visualization]) (0.18.2)\n",
      "Requirement already satisfied: pickleshare in /home/mirza/.local/lib/python3.10/site-packages (from ipython>=6.1.0->ipywidgets>=7.3.0->qiskit[visualization]) (0.7.5)\n",
      "Requirement already satisfied: prompt-toolkit!=3.0.37,<3.1.0,>=3.0.30 in /home/mirza/.local/lib/python3.10/site-packages (from ipython>=6.1.0->ipywidgets>=7.3.0->qiskit[visualization]) (3.0.38)\n",
      "Requirement already satisfied: stack-data in /home/mirza/.local/lib/python3.10/site-packages (from ipython>=6.1.0->ipywidgets>=7.3.0->qiskit[visualization]) (0.6.2)\n",
      "Requirement already satisfied: pexpect>4.3 in /home/mirza/.local/lib/python3.10/site-packages (from ipython>=6.1.0->ipywidgets>=7.3.0->qiskit[visualization]) (4.8.0)\n",
      "Requirement already satisfied: pytz>=2020.1 in /usr/lib/python3/dist-packages (from pandas>=0.25->seaborn>=0.9.0->qiskit[visualization]) (2022.1)\n",
      "Requirement already satisfied: tzdata>=2022.1 in /home/mirza/.local/lib/python3.10/site-packages (from pandas>=0.25->seaborn>=0.9.0->qiskit[visualization]) (2023.3)\n",
      "Requirement already satisfied: six>=1.5 in /home/mirza/.local/lib/python3.10/site-packages (from python-dateutil>=2.8.0->qiskit-ibmq-provider==0.20.2->qiskit[visualization]) (1.16.0)\n"
     ]
    },
    {
     "name": "stdout",
     "output_type": "stream",
     "text": [
      "Requirement already satisfied: charset-normalizer<4,>=2 in /home/mirza/.local/lib/python3.10/site-packages (from requests>=2.19->qiskit-ibmq-provider==0.20.2->qiskit[visualization]) (3.1.0)\n",
      "Requirement already satisfied: idna<4,>=2.5 in /home/mirza/.local/lib/python3.10/site-packages (from requests>=2.19->qiskit-ibmq-provider==0.20.2->qiskit[visualization]) (3.4)\n",
      "Requirement already satisfied: certifi>=2017.4.17 in /usr/lib/python3/dist-packages (from requests>=2.19->qiskit-ibmq-provider==0.20.2->qiskit[visualization]) (2020.6.20)\n",
      "Requirement already satisfied: ntlm-auth>=1.0.2 in /home/mirza/.local/lib/python3.10/site-packages (from requests-ntlm<=1.1.0->qiskit-ibmq-provider==0.20.2->qiskit[visualization]) (1.5.0)\n",
      "Requirement already satisfied: cryptography>=1.3 in /usr/lib/python3/dist-packages (from requests-ntlm<=1.1.0->qiskit-ibmq-provider==0.20.2->qiskit[visualization]) (3.4.8)\n",
      "Requirement already satisfied: pbr!=2.1.0,>=2.0.0 in /home/mirza/.local/lib/python3.10/site-packages (from stevedore>=3.0.0->qiskit-terra==0.24.1->qiskit[visualization]) (5.11.1)\n",
      "Requirement already satisfied: parso<0.9.0,>=0.8.0 in /home/mirza/.local/lib/python3.10/site-packages (from jedi>=0.16->ipython>=6.1.0->ipywidgets>=7.3.0->qiskit[visualization]) (0.8.3)\n",
      "Requirement already satisfied: platformdirs>=2.5 in /home/mirza/.local/lib/python3.10/site-packages (from jupyter-core!=5.0.*,>=4.12->ipykernel>=4.5.1->ipywidgets>=7.3.0->qiskit[visualization]) (3.5.3)\n",
      "Requirement already satisfied: ptyprocess>=0.5 in /home/mirza/.local/lib/python3.10/site-packages (from pexpect>4.3->ipython>=6.1.0->ipywidgets>=7.3.0->qiskit[visualization]) (0.7.0)\n",
      "Requirement already satisfied: wcwidth in /home/mirza/.local/lib/python3.10/site-packages (from prompt-toolkit!=3.0.37,<3.1.0,>=3.0.30->ipython>=6.1.0->ipywidgets>=7.3.0->qiskit[visualization]) (0.2.6)\n",
      "Requirement already satisfied: executing>=1.2.0 in /home/mirza/.local/lib/python3.10/site-packages (from stack-data->ipython>=6.1.0->ipywidgets>=7.3.0->qiskit[visualization]) (1.2.0)\n",
      "Requirement already satisfied: asttokens>=2.1.0 in /home/mirza/.local/lib/python3.10/site-packages (from stack-data->ipython>=6.1.0->ipywidgets>=7.3.0->qiskit[visualization]) (2.2.1)\n",
      "Requirement already satisfied: pure-eval in /home/mirza/.local/lib/python3.10/site-packages (from stack-data->ipython>=6.1.0->ipywidgets>=7.3.0->qiskit[visualization]) (0.2.2)\n",
      "Building wheels for collected packages: qiskit\n",
      "  Building wheel for qiskit (pyproject.toml) ... \u001b[?25ldone\n",
      "\u001b[?25h  Created wheel for qiskit: filename=qiskit-0.43.2-py3-none-any.whl size=7640 sha256=a75377c96cd02eb8556566b2b8b4964b816c28470c19fd562ad49657257e2291\n",
      "  Stored in directory: /home/mirza/.cache/pip/wheels/d4/ad/4f/f54eb8743e54c5bab69837b842cf56a8a87ac7c57a2abf85ad\n",
      "Successfully built qiskit\n",
      "Installing collected packages: qiskit-aer, qiskit\n",
      "  Attempting uninstall: qiskit-aer\n",
      "    Found existing installation: qiskit-aer 0.12.0\n",
      "    Uninstalling qiskit-aer-0.12.0:\n",
      "      Successfully uninstalled qiskit-aer-0.12.0\n",
      "  Attempting uninstall: qiskit\n",
      "    Found existing installation: qiskit 0.43.1\n",
      "    Uninstalling qiskit-0.43.1:\n",
      "      Successfully uninstalled qiskit-0.43.1\n",
      "Successfully installed qiskit-0.43.2 qiskit-aer-0.12.1\n"
     ]
    }
   ],
   "source": [
    "!pip install \"qiskit[visualization]\" --user --upgrade"
   ]
  },
  {
   "cell_type": "markdown",
   "id": "e5a26fcc",
   "metadata": {},
   "source": [
    "<hr id=\"tips\">\n",
    "\n",
    "### Tips\n",
    "\n",
    "_Any terminal/shell command can be executed in the notebook cells by putting an exclamation mark (!) at the beginning of the command._\n",
    "\n",
    "_$\\rightarrow$ To update Qiskit to the latest version, execute the following command in a code cell_\n",
    "\n",
    "    !pip install -U qiskit --user\n",
    "    \n",
    "_$\\rightarrow$ To uninstall Qiskit, execute the following command in a code cell_\n",
    "\n",
    "    !pip uninstall qiskit"
   ]
  },
  {
   "cell_type": "markdown",
   "id": "e12f635a",
   "metadata": {},
   "source": [
    "## Executing an Example"
   ]
  },
  {
   "cell_type": "markdown",
   "id": "194eb5a9",
   "metadata": {},
   "source": [
    "At this point, you do not need to scratch your head over what's going on in the following code. It is just testing whether qiskit is perfectly installed on not. \n",
    "### 1) Creating a Quantum Circuit\n",
    "\n",
    "If you see *\"The execution of the cell was completed, and the circuit was created :)\"* after execution of the following code then proceed forward. If not then there is something wrong with either qiskit installation or the following code has been damadged. In principle, if you followed the above stpes, the following code should work."
   ]
  },
  {
   "cell_type": "code",
   "execution_count": 3,
   "id": "db92d361",
   "metadata": {},
   "outputs": [
    {
     "name": "stdout",
     "output_type": "stream",
     "text": [
      "The execution of the cell was completed, and the circuit was created :)\n"
     ]
    }
   ],
   "source": [
    "# import the objects from qiskit\n",
    "from qiskit import QuantumRegister, ClassicalRegister, QuantumCircuit, execute, Aer\n",
    "from random import randrange\n",
    "\n",
    "# create a quantum circuit and its register objects\n",
    "qreg = QuantumRegister(2) # quantum register with two quantum bits\n",
    "creg = ClassicalRegister(2) # classical register with two classical bit\n",
    "circuit = QuantumCircuit(qreg,creg) # quantum circuit composed by a quantum register and a classical register\n",
    "\n",
    "# apply a Hadamard gate to the first qubit\n",
    "circuit.h(qreg[0])\n",
    "\n",
    "# set the second qubit to state |1>\n",
    "circuit.x(qreg[1])\n",
    "\n",
    "# apply CNOT(first_qubit,second_qubit)\n",
    "circuit.cx(qreg[0],qreg[1])\n",
    "\n",
    "# measure the both qubits\n",
    "circuit.measure(qreg,creg)\n",
    "\n",
    "print(\"The execution of the cell was completed, and the circuit was created :)\")"
   ]
  },
  {
   "cell_type": "markdown",
   "id": "7b0e2427",
   "metadata": {},
   "source": [
    "### 2) Drawing the Circuit\n",
    "Run the cell once more if you do not see the following figure after execution. <img src=\"files/Graphics/InstallationExample.png\" width=\"300\" height=\"500\">"
   ]
  },
  {
   "cell_type": "code",
   "execution_count": 4,
   "id": "6cb87e19",
   "metadata": {},
   "outputs": [
    {
     "data": {
      "image/png": "[encoded data removed]",
      "text/plain": [
       "<Figure size 472.545x284.278 with 1 Axes>"
      ]
     },
     "execution_count": 4,
     "metadata": {},
     "output_type": "execute_result"
    }
   ],
   "source": [
    "# draw circuit \n",
    "circuit.draw(output='mpl')\n",
    "\n",
    "# the output will be a \"matplotlib.Figure\" object"
   ]
  },
  {
   "cell_type": "markdown",
   "id": "1794066e",
   "metadata": {},
   "source": [
    "### 3) Executing Circuit in Local Simulator\n",
    "Execute the circuit 1024 times in the local simulator and print the observed the outcomes\n"
   ]
  },
  {
   "cell_type": "code",
   "execution_count": 5,
   "id": "ee18cb0c",
   "metadata": {},
   "outputs": [
    {
     "name": "stdout",
     "output_type": "stream",
     "text": [
      "{'10': 510, '01': 514}\n"
     ]
    }
   ],
   "source": [
    "## execute the circuit 1024 times\n",
    "job = execute(circuit,Aer.get_backend('qasm_simulator'),shots=1024)\n",
    "# get the result\n",
    "counts = job.result().get_counts(circuit)\n",
    "print(counts)"
   ]
  },
  {
   "cell_type": "code",
   "execution_count": 30,
   "id": "3cdfcfb0",
   "metadata": {},
   "outputs": [
    {
     "ename": "TypeError",
     "evalue": "bad input to run() function;`validation` argument is only effective for input qobj",
     "output_type": "error",
     "traceback": [
      "\u001b[0;31m---------------------------------------------------------------------------\u001b[0m",
      "\u001b[0;31mTypeError\u001b[0m                                 Traceback (most recent call last)",
      "Cell \u001b[0;32mIn[30], line 13\u001b[0m\n\u001b[1;32m     10\u001b[0m qc\u001b[38;5;241m.\u001b[39mu(\u001b[38;5;241m2\u001b[39m\u001b[38;5;241m*\u001b[39mpi\u001b[38;5;241m/\u001b[39m\u001b[38;5;241m3\u001b[39m,\u001b[38;5;241m0\u001b[39m,\u001b[38;5;241m0\u001b[39m,q)\n\u001b[1;32m     12\u001b[0m backend \u001b[38;5;241m=\u001b[39m Aer\u001b[38;5;241m.\u001b[39mget_backend(\u001b[38;5;124m'\u001b[39m\u001b[38;5;124mstatevector_simulator\u001b[39m\u001b[38;5;124m'\u001b[39m) \u001b[38;5;66;03m# the device to run on\u001b[39;00m\n\u001b[0;32m---> 13\u001b[0m result \u001b[38;5;241m=\u001b[39m \u001b[43mbackend\u001b[49m\u001b[38;5;241;43m.\u001b[39;49m\u001b[43mrun\u001b[49m\u001b[43m(\u001b[49m\u001b[43mqc\u001b[49m\u001b[43m,\u001b[49m\u001b[43m \u001b[49m\u001b[43mbackend\u001b[49m\u001b[43m)\u001b[49m\u001b[38;5;241m.\u001b[39mresult()\n\u001b[1;32m     14\u001b[0m psi  \u001b[38;5;241m=\u001b[39m result\u001b[38;5;241m.\u001b[39mget_statevector(qc)\n",
      "File \u001b[0;32m~/.local/lib/python3.10/site-packages/qiskit_aer/backends/aerbackend.py:206\u001b[0m, in \u001b[0;36mrun\u001b[0;34m(self, circuits, validate, parameter_binds, **run_options)\u001b[0m\n\u001b[1;32m    204\u001b[0m \u001b[38;5;28;01mfor\u001b[39;00m circ \u001b[38;5;129;01min\u001b[39;00m circuits:\n\u001b[1;32m    205\u001b[0m     only_circuits \u001b[38;5;241m&\u001b[39m\u001b[38;5;241m=\u001b[39m \u001b[38;5;28misinstance\u001b[39m(circ, QuantumCircuit)\n\u001b[0;32m--> 206\u001b[0m     only_pulse \u001b[38;5;241m&\u001b[39m\u001b[38;5;241m=\u001b[39m \u001b[38;5;28misinstance\u001b[39m(circ, (ScheduleBlock, Schedule))\n\u001b[1;32m    208\u001b[0m \u001b[38;5;28;01mif\u001b[39;00m only_circuits \u001b[38;5;129;01mand\u001b[39;00m \u001b[38;5;129;01mnot\u001b[39;00m only_pulse:\n\u001b[1;32m    209\u001b[0m     \u001b[38;5;28;01mif\u001b[39;00m validate:\n",
      "\u001b[0;31mTypeError\u001b[0m: bad input to run() function;`validation` argument is only effective for input qobj"
     ]
    }
   ],
   "source": [
    "from qiskit.visualization import plot_state_city, plot_bloch_multivector\n",
    "from qiskit.visualization import plot_state_paulivec, plot_state_hinton\n",
    "from qiskit.visualization import plot_state_qsphere\n",
    "from math import pi\n",
    "\n",
    "q =  QuantumRegister(1) # quantum register with a single qubit\n",
    "c = ClassicalRegister(1) # classical register with a single bit\n",
    "qc = QuantumCircuit(q,c) # quantum circuit with quantum and classical registers\n",
    "\n",
    "qc.u(2*pi/3,0,0,q)\n",
    "\n",
    "backend = Aer.get_backend('statevector_simulator') # the device to run on\n",
    "result = backend.run(qc, backend).result()\n",
    "psi  = result.get_statevector(qc)"
   ]
  },
  {
   "cell_type": "code",
   "execution_count": 25,
   "id": "9e2e621c",
   "metadata": {},
   "outputs": [
    {
     "data": {
      "text/html": [
       "<pre style=\"word-wrap: normal;white-space: pre;background: #fff0;line-height: 1.1;font-family: &quot;Courier New&quot;,Courier,monospace\">       ┌─────────────┐┌─┐\n",
       "  q17: ┤ U(2π/3,0,0) ├┤M├\n",
       "       └─────────────┘└╥┘\n",
       "c13: 1/════════════════╩═\n",
       "                       0 </pre>"
      ],
      "text/plain": [
       "       ┌─────────────┐┌─┐\n",
       "  q17: ┤ U(2π/3,0,0) ├┤M├\n",
       "       └─────────────┘└╥┘\n",
       "c13: 1/════════════════╩═\n",
       "                       0 "
      ]
     },
     "execution_count": 25,
     "metadata": {},
     "output_type": "execute_result"
    }
   ],
   "source": [
    "qc.draw()"
   ]
  },
  {
   "cell_type": "code",
   "execution_count": 26,
   "id": "e55b6f43",
   "metadata": {},
   "outputs": [
    {
     "ename": "NameError",
     "evalue": "name 'psi' is not defined",
     "output_type": "error",
     "traceback": [
      "\u001b[0;31m---------------------------------------------------------------------------\u001b[0m",
      "\u001b[0;31mNameError\u001b[0m                                 Traceback (most recent call last)",
      "Cell \u001b[0;32mIn[26], line 1\u001b[0m\n\u001b[0;32m----> 1\u001b[0m plot_bloch_multivector(\u001b[43mpsi\u001b[49m)\n",
      "\u001b[0;31mNameError\u001b[0m: name 'psi' is not defined"
     ]
    }
   ],
   "source": [
    "plot_bloch_multivector()"
   ]
  },
  {
   "cell_type": "code",
   "execution_count": null,
   "id": "9cc76ac6",
   "metadata": {},
   "outputs": [],
   "source": []
  },
  {
   "cell_type": "code",
   "execution_count": null,
   "id": "176e66d1",
   "metadata": {},
   "outputs": [],
   "source": []
  }
 ],
 "metadata": {
  "kernelspec": {
   "display_name": "Python 3 (ipykernel)",
   "language": "python",
   "name": "python3"
  },
  "language_info": {
   "codemirror_mode": {
    "name": "ipython",
    "version": 3
   },
   "file_extension": ".py",
   "mimetype": "text/x-python",
   "name": "python",
   "nbconvert_exporter": "python",
   "pygments_lexer": "ipython3",
   "version": "3.10.6"
  }
 },
 "nbformat": 4,
 "nbformat_minor": 5
}
